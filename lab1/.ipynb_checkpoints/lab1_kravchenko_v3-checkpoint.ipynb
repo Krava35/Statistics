{
 "cells": [
  {
   "cell_type": "markdown",
   "id": "cb5e27e6-938c-491e-967b-67f23def4386",
   "metadata": {},
   "source": [
    "# Lab 1"
   ]
  },
  {
   "cell_type": "markdown",
   "id": "2000f58b-6f93-42bd-b8e5-e5c5db02e912",
   "metadata": {
    "jp-MarkdownHeadingCollapsed": true,
    "tags": []
   },
   "source": [
    "## Import libs"
   ]
  },
  {
   "cell_type": "code",
   "execution_count": 614,
   "id": "80333e81-18bc-4dfc-bdd3-0c62a056cd4e",
   "metadata": {},
   "outputs": [],
   "source": [
    "import pandas as pd\n",
    "import numpy as np\n",
    "import matplotlib.pyplot as plt\n",
    "import statistics as stat\n",
    "import math"
   ]
  },
  {
   "cell_type": "markdown",
   "id": "3282594f-1c01-49dd-b062-f1284f10e315",
   "metadata": {
    "jp-MarkdownHeadingCollapsed": true,
    "tags": []
   },
   "source": [
    "## Read data"
   ]
  },
  {
   "cell_type": "code",
   "execution_count": 615,
   "id": "95badd67-0afd-4cd1-bcf1-7ad09776998f",
   "metadata": {},
   "outputs": [
    {
     "data": {
      "text/html": [
       "<div>\n",
       "<style scoped>\n",
       "    .dataframe tbody tr th:only-of-type {\n",
       "        vertical-align: middle;\n",
       "    }\n",
       "\n",
       "    .dataframe tbody tr th {\n",
       "        vertical-align: top;\n",
       "    }\n",
       "\n",
       "    .dataframe thead th {\n",
       "        text-align: right;\n",
       "    }\n",
       "</style>\n",
       "<table border=\"1\" class=\"dataframe\">\n",
       "  <thead>\n",
       "    <tr style=\"text-align: right;\">\n",
       "      <th></th>\n",
       "      <th>reading score</th>\n",
       "      <th>writing score</th>\n",
       "    </tr>\n",
       "  </thead>\n",
       "  <tbody>\n",
       "    <tr>\n",
       "      <th>0</th>\n",
       "      <td>47</td>\n",
       "      <td>41</td>\n",
       "    </tr>\n",
       "    <tr>\n",
       "      <th>1</th>\n",
       "      <td>71</td>\n",
       "      <td>67</td>\n",
       "    </tr>\n",
       "    <tr>\n",
       "      <th>2</th>\n",
       "      <td>73</td>\n",
       "      <td>73</td>\n",
       "    </tr>\n",
       "    <tr>\n",
       "      <th>3</th>\n",
       "      <td>86</td>\n",
       "      <td>82</td>\n",
       "    </tr>\n",
       "    <tr>\n",
       "      <th>4</th>\n",
       "      <td>100</td>\n",
       "      <td>100</td>\n",
       "    </tr>\n",
       "    <tr>\n",
       "      <th>5</th>\n",
       "      <td>86</td>\n",
       "      <td>82</td>\n",
       "    </tr>\n",
       "    <tr>\n",
       "      <th>6</th>\n",
       "      <td>75</td>\n",
       "      <td>79</td>\n",
       "    </tr>\n",
       "    <tr>\n",
       "      <th>7</th>\n",
       "      <td>52</td>\n",
       "      <td>43</td>\n",
       "    </tr>\n",
       "    <tr>\n",
       "      <th>8</th>\n",
       "      <td>48</td>\n",
       "      <td>48</td>\n",
       "    </tr>\n",
       "    <tr>\n",
       "      <th>9</th>\n",
       "      <td>71</td>\n",
       "      <td>77</td>\n",
       "    </tr>\n",
       "  </tbody>\n",
       "</table>\n",
       "</div>"
      ],
      "text/plain": [
       "   reading score  writing score\n",
       "0             47             41\n",
       "1             71             67\n",
       "2             73             73\n",
       "3             86             82\n",
       "4            100            100\n",
       "5             86             82\n",
       "6             75             79\n",
       "7             52             43\n",
       "8             48             48\n",
       "9             71             77"
      ]
     },
     "execution_count": 615,
     "metadata": {},
     "output_type": "execute_result"
    }
   ],
   "source": [
    "df = pd.read_excel('data.xlsx')\n",
    "df.head(10)"
   ]
  },
  {
   "cell_type": "code",
   "execution_count": 616,
   "id": "a53ebf25-5aec-4313-888b-b92657e3fe34",
   "metadata": {},
   "outputs": [
    {
     "name": "stdout",
     "output_type": "stream",
     "text": [
      "<class 'pandas.core.frame.DataFrame'>\n",
      "RangeIndex: 200 entries, 0 to 199\n",
      "Data columns (total 2 columns):\n",
      " #   Column         Non-Null Count  Dtype\n",
      "---  ------         --------------  -----\n",
      " 0   reading score  200 non-null    int64\n",
      " 1   writing score  200 non-null    int64\n",
      "dtypes: int64(2)\n",
      "memory usage: 3.2 KB\n"
     ]
    }
   ],
   "source": [
    "df.info()"
   ]
  },
  {
   "cell_type": "markdown",
   "id": "10289ce5-a797-4151-b1c3-0f908949a912",
   "metadata": {},
   "source": [
    "#### Reading scores series"
   ]
  },
  {
   "cell_type": "code",
   "execution_count": 617,
   "id": "12998fb3-efbb-4cea-a22c-b365e057be0a",
   "metadata": {},
   "outputs": [],
   "source": [
    "reading_score = df['reading score'].sort_values()"
   ]
  },
  {
   "cell_type": "code",
   "execution_count": 618,
   "id": "c502aee7-e382-4333-86c9-cb2c2505a33e",
   "metadata": {},
   "outputs": [
    {
     "data": {
      "text/plain": [
       "count    200.000000\n",
       "mean      68.590000\n",
       "std       15.711338\n",
       "min       32.000000\n",
       "25%       56.750000\n",
       "50%       68.000000\n",
       "75%       80.250000\n",
       "max      100.000000\n",
       "Name: reading score, dtype: float64"
      ]
     },
     "execution_count": 618,
     "metadata": {},
     "output_type": "execute_result"
    }
   ],
   "source": [
    "reading_score.describe()"
   ]
  },
  {
   "cell_type": "markdown",
   "id": "80b9e5da-0fd4-4f84-a9b9-900129e9c2c2",
   "metadata": {},
   "source": [
    "#### Writting scores series"
   ]
  },
  {
   "cell_type": "code",
   "execution_count": 619,
   "id": "4e12eb1a-55e1-4f3b-b838-dbdcf5e501b2",
   "metadata": {},
   "outputs": [],
   "source": [
    "writting_score = df['writing score'].sort_values()"
   ]
  },
  {
   "cell_type": "code",
   "execution_count": 620,
   "id": "20690590-72ec-4a89-a479-b4d9c129c7c2",
   "metadata": {},
   "outputs": [
    {
     "data": {
      "text/plain": [
       "count    200.000000\n",
       "mean      67.760000\n",
       "std       16.441228\n",
       "min       25.000000\n",
       "25%       55.000000\n",
       "50%       68.000000\n",
       "75%       79.000000\n",
       "max      100.000000\n",
       "Name: writing score, dtype: float64"
      ]
     },
     "execution_count": 620,
     "metadata": {},
     "output_type": "execute_result"
    }
   ],
   "source": [
    "writting_score.describe()"
   ]
  },
  {
   "cell_type": "markdown",
   "id": "4103d384-d6b6-4214-b18c-e4d3d063f801",
   "metadata": {
    "jp-MarkdownHeadingCollapsed": true,
    "tags": []
   },
   "source": [
    "## Interval series"
   ]
  },
  {
   "cell_type": "markdown",
   "id": "24267f7a-23b3-4058-8d70-3bbc3dcbaf85",
   "metadata": {
    "jp-MarkdownHeadingCollapsed": true,
    "tags": []
   },
   "source": [
    "### Reading interval serie"
   ]
  },
  {
   "cell_type": "markdown",
   "id": "6a3e2809-ac6e-485d-a5a1-2d596b398bd5",
   "metadata": {
    "tags": []
   },
   "source": [
    "#### Intervals parameters"
   ]
  },
  {
   "cell_type": "code",
   "execution_count": 621,
   "id": "f3b9819c-2f59-439a-9864-97d8e6474911",
   "metadata": {},
   "outputs": [
    {
     "name": "stdout",
     "output_type": "stream",
     "text": [
      "---------------------------\n",
      "|Number of elements:   200|\n",
      "---------------------------\n",
      "|Number of intervals:    8|\n",
      "---------------------------\n",
      "|Range of sample:       68|\n",
      "---------------------------\n",
      "|Intervals length:     8.5|\n",
      "---------------------------\n"
     ]
    }
   ],
   "source": [
    "n = reading_score.count()\n",
    "k = int(1 + np.log2(reading_score.max()).round(0))\n",
    "r = int(reading_score.max() - reading_score.min())\n",
    "l = h / k\n",
    "\n",
    "print('---------------------------')\n",
    "print('|%-8s %5.d|' % ('Number of elements:', n))\n",
    "print('---------------------------')\n",
    "print('|%-8s %4.d|' % ('Number of intervals:', k))\n",
    "print('---------------------------')\n",
    "print('|%-8s %8.d|' % ('Range of sample:', r))\n",
    "print('---------------------------')\n",
    "print('|%-8s %7.1f|' % ('Intervals length:', l))\n",
    "print('---------------------------')"
   ]
  },
  {
   "cell_type": "markdown",
   "id": "fb8abd5f-233d-4cc9-a357-41ae10ea53ca",
   "metadata": {
    "tags": []
   },
   "source": [
    "#### Table creating"
   ]
  },
  {
   "cell_type": "markdown",
   "id": "bba05a03-f719-4e08-a78f-541e9bb70ea5",
   "metadata": {
    "tags": []
   },
   "source": [
    "##### Intervals"
   ]
  },
  {
   "cell_type": "code",
   "execution_count": 622,
   "id": "b7df9212-e8d0-49c4-9e8a-c33d24b1c1f8",
   "metadata": {},
   "outputs": [
    {
     "data": {
      "text/html": [
       "<div>\n",
       "<style scoped>\n",
       "    .dataframe tbody tr th:only-of-type {\n",
       "        vertical-align: middle;\n",
       "    }\n",
       "\n",
       "    .dataframe tbody tr th {\n",
       "        vertical-align: top;\n",
       "    }\n",
       "\n",
       "    .dataframe thead th {\n",
       "        text-align: right;\n",
       "    }\n",
       "</style>\n",
       "<table border=\"1\" class=\"dataframe\">\n",
       "  <thead>\n",
       "    <tr style=\"text-align: right;\">\n",
       "      <th></th>\n",
       "      <th>a_i</th>\n",
       "      <th>a_i+1</th>\n",
       "    </tr>\n",
       "  </thead>\n",
       "  <tbody>\n",
       "    <tr>\n",
       "      <th>0</th>\n",
       "      <td>32.0</td>\n",
       "      <td>40.5</td>\n",
       "    </tr>\n",
       "    <tr>\n",
       "      <th>1</th>\n",
       "      <td>40.5</td>\n",
       "      <td>49.0</td>\n",
       "    </tr>\n",
       "    <tr>\n",
       "      <th>2</th>\n",
       "      <td>49.0</td>\n",
       "      <td>57.5</td>\n",
       "    </tr>\n",
       "    <tr>\n",
       "      <th>3</th>\n",
       "      <td>57.5</td>\n",
       "      <td>66.0</td>\n",
       "    </tr>\n",
       "    <tr>\n",
       "      <th>4</th>\n",
       "      <td>66.0</td>\n",
       "      <td>74.5</td>\n",
       "    </tr>\n",
       "    <tr>\n",
       "      <th>5</th>\n",
       "      <td>74.5</td>\n",
       "      <td>83.0</td>\n",
       "    </tr>\n",
       "    <tr>\n",
       "      <th>6</th>\n",
       "      <td>83.0</td>\n",
       "      <td>91.5</td>\n",
       "    </tr>\n",
       "    <tr>\n",
       "      <th>7</th>\n",
       "      <td>91.5</td>\n",
       "      <td>100.0</td>\n",
       "    </tr>\n",
       "  </tbody>\n",
       "</table>\n",
       "</div>"
      ],
      "text/plain": [
       "    a_i  a_i+1\n",
       "0  32.0   40.5\n",
       "1  40.5   49.0\n",
       "2  49.0   57.5\n",
       "3  57.5   66.0\n",
       "4  66.0   74.5\n",
       "5  74.5   83.0\n",
       "6  83.0   91.5\n",
       "7  91.5  100.0"
      ]
     },
     "execution_count": 622,
     "metadata": {},
     "output_type": "execute_result"
    }
   ],
   "source": [
    "a_i = []\n",
    "a_i_plus = []\n",
    "\n",
    "for i in range(k):\n",
    "    a_i.append(reading_score.min() + l * i)\n",
    "    a_i_plus.append(reading_score.min() + l * (i + 1))\n",
    "    \n",
    "reading_interval = pd.DataFrame({'a_i': a_i,\n",
    "                                 'a_i+1': a_i_plus})\n",
    "    \n",
    "reading_interval.head(8)"
   ]
  },
  {
   "cell_type": "markdown",
   "id": "976f4000-81c0-4fb1-a9e7-1f31b0592c75",
   "metadata": {
    "tags": []
   },
   "source": [
    "##### Calculating number of values in intervals"
   ]
  },
  {
   "cell_type": "code",
   "execution_count": 623,
   "id": "f2fd6f50-b7af-4f73-9c94-87ad92bd6cfe",
   "metadata": {},
   "outputs": [
    {
     "data": {
      "text/html": [
       "<div>\n",
       "<style scoped>\n",
       "    .dataframe tbody tr th:only-of-type {\n",
       "        vertical-align: middle;\n",
       "    }\n",
       "\n",
       "    .dataframe tbody tr th {\n",
       "        vertical-align: top;\n",
       "    }\n",
       "\n",
       "    .dataframe thead th {\n",
       "        text-align: right;\n",
       "    }\n",
       "</style>\n",
       "<table border=\"1\" class=\"dataframe\">\n",
       "  <thead>\n",
       "    <tr style=\"text-align: right;\">\n",
       "      <th></th>\n",
       "      <th>a_i</th>\n",
       "      <th>a_i+1</th>\n",
       "      <th>values</th>\n",
       "    </tr>\n",
       "  </thead>\n",
       "  <tbody>\n",
       "    <tr>\n",
       "      <th>0</th>\n",
       "      <td>32.0</td>\n",
       "      <td>40.5</td>\n",
       "      <td>8</td>\n",
       "    </tr>\n",
       "    <tr>\n",
       "      <th>1</th>\n",
       "      <td>40.5</td>\n",
       "      <td>49.0</td>\n",
       "      <td>11</td>\n",
       "    </tr>\n",
       "    <tr>\n",
       "      <th>2</th>\n",
       "      <td>49.0</td>\n",
       "      <td>57.5</td>\n",
       "      <td>34</td>\n",
       "    </tr>\n",
       "    <tr>\n",
       "      <th>3</th>\n",
       "      <td>57.5</td>\n",
       "      <td>66.0</td>\n",
       "      <td>34</td>\n",
       "    </tr>\n",
       "    <tr>\n",
       "      <th>4</th>\n",
       "      <td>66.0</td>\n",
       "      <td>74.5</td>\n",
       "      <td>40</td>\n",
       "    </tr>\n",
       "    <tr>\n",
       "      <th>5</th>\n",
       "      <td>74.5</td>\n",
       "      <td>83.0</td>\n",
       "      <td>30</td>\n",
       "    </tr>\n",
       "    <tr>\n",
       "      <th>6</th>\n",
       "      <td>83.0</td>\n",
       "      <td>91.5</td>\n",
       "      <td>28</td>\n",
       "    </tr>\n",
       "    <tr>\n",
       "      <th>7</th>\n",
       "      <td>91.5</td>\n",
       "      <td>100.0</td>\n",
       "      <td>15</td>\n",
       "    </tr>\n",
       "  </tbody>\n",
       "</table>\n",
       "</div>"
      ],
      "text/plain": [
       "    a_i  a_i+1  values\n",
       "0  32.0   40.5       8\n",
       "1  40.5   49.0      11\n",
       "2  49.0   57.5      34\n",
       "3  57.5   66.0      34\n",
       "4  66.0   74.5      40\n",
       "5  74.5   83.0      30\n",
       "6  83.0   91.5      28\n",
       "7  91.5  100.0      15"
      ]
     },
     "execution_count": 623,
     "metadata": {},
     "output_type": "execute_result"
    }
   ],
   "source": [
    "intervals_values = []\n",
    "values = reading_score.value_counts().sort_index()\n",
    "\n",
    "for i in range(k):\n",
    "    if i % 2 and i != (k - 1):\n",
    "        intervals_values.append(sum(values.loc[math.ceil(a_i[i]):math.trunc(a_i_plus[i] - 0.01)]))\n",
    "    else:\n",
    "        intervals_values.append(sum(values.loc[math.ceil(a_i[i]):math.trunc(a_i_plus[i])]))\n",
    "\n",
    "reading_interval['values'] = intervals_values\n",
    "reading_interval.head(8)"
   ]
  },
  {
   "cell_type": "markdown",
   "id": "a2201c17-df77-42c6-a0a7-07d603ac8e06",
   "metadata": {
    "tags": []
   },
   "source": [
    "##### Adding parameters"
   ]
  },
  {
   "cell_type": "code",
   "execution_count": 624,
   "id": "7d2d1dca-1316-4cb7-a811-d9e347ac40da",
   "metadata": {},
   "outputs": [
    {
     "data": {
      "text/html": [
       "<div>\n",
       "<style scoped>\n",
       "    .dataframe tbody tr th:only-of-type {\n",
       "        vertical-align: middle;\n",
       "    }\n",
       "\n",
       "    .dataframe tbody tr th {\n",
       "        vertical-align: top;\n",
       "    }\n",
       "\n",
       "    .dataframe thead th {\n",
       "        text-align: right;\n",
       "    }\n",
       "</style>\n",
       "<table border=\"1\" class=\"dataframe\">\n",
       "  <thead>\n",
       "    <tr style=\"text-align: right;\">\n",
       "      <th></th>\n",
       "      <th>a_i</th>\n",
       "      <th>a_i+1</th>\n",
       "      <th>values</th>\n",
       "      <th>M</th>\n",
       "      <th>h</th>\n",
       "    </tr>\n",
       "  </thead>\n",
       "  <tbody>\n",
       "    <tr>\n",
       "      <th>0</th>\n",
       "      <td>32.0</td>\n",
       "      <td>40.5</td>\n",
       "      <td>8</td>\n",
       "      <td>0.040</td>\n",
       "      <td>0.941176</td>\n",
       "    </tr>\n",
       "    <tr>\n",
       "      <th>1</th>\n",
       "      <td>40.5</td>\n",
       "      <td>49.0</td>\n",
       "      <td>11</td>\n",
       "      <td>0.055</td>\n",
       "      <td>1.294118</td>\n",
       "    </tr>\n",
       "    <tr>\n",
       "      <th>2</th>\n",
       "      <td>49.0</td>\n",
       "      <td>57.5</td>\n",
       "      <td>34</td>\n",
       "      <td>0.170</td>\n",
       "      <td>4.000000</td>\n",
       "    </tr>\n",
       "    <tr>\n",
       "      <th>3</th>\n",
       "      <td>57.5</td>\n",
       "      <td>66.0</td>\n",
       "      <td>34</td>\n",
       "      <td>0.170</td>\n",
       "      <td>4.000000</td>\n",
       "    </tr>\n",
       "    <tr>\n",
       "      <th>4</th>\n",
       "      <td>66.0</td>\n",
       "      <td>74.5</td>\n",
       "      <td>40</td>\n",
       "      <td>0.200</td>\n",
       "      <td>4.705882</td>\n",
       "    </tr>\n",
       "    <tr>\n",
       "      <th>5</th>\n",
       "      <td>74.5</td>\n",
       "      <td>83.0</td>\n",
       "      <td>30</td>\n",
       "      <td>0.150</td>\n",
       "      <td>3.529412</td>\n",
       "    </tr>\n",
       "    <tr>\n",
       "      <th>6</th>\n",
       "      <td>83.0</td>\n",
       "      <td>91.5</td>\n",
       "      <td>28</td>\n",
       "      <td>0.140</td>\n",
       "      <td>3.294118</td>\n",
       "    </tr>\n",
       "    <tr>\n",
       "      <th>7</th>\n",
       "      <td>91.5</td>\n",
       "      <td>100.0</td>\n",
       "      <td>15</td>\n",
       "      <td>0.075</td>\n",
       "      <td>1.764706</td>\n",
       "    </tr>\n",
       "  </tbody>\n",
       "</table>\n",
       "</div>"
      ],
      "text/plain": [
       "    a_i  a_i+1  values      M         h\n",
       "0  32.0   40.5       8  0.040  0.941176\n",
       "1  40.5   49.0      11  0.055  1.294118\n",
       "2  49.0   57.5      34  0.170  4.000000\n",
       "3  57.5   66.0      34  0.170  4.000000\n",
       "4  66.0   74.5      40  0.200  4.705882\n",
       "5  74.5   83.0      30  0.150  3.529412\n",
       "6  83.0   91.5      28  0.140  3.294118\n",
       "7  91.5  100.0      15  0.075  1.764706"
      ]
     },
     "execution_count": 624,
     "metadata": {},
     "output_type": "execute_result"
    }
   ],
   "source": [
    "M = []\n",
    "H = []\n",
    "for value in reading_interval['values']:\n",
    "    M.append(value / n)\n",
    "    H.append(value / l)\n",
    "    \n",
    "reading_interval['M'] = M\n",
    "reading_interval['h'] = H\n",
    "reading_interval.head(8)"
   ]
  },
  {
   "cell_type": "code",
   "execution_count": 625,
   "id": "285d72de-48fb-4f7e-99e6-63720b3a4cc2",
   "metadata": {},
   "outputs": [
    {
     "data": {
      "text/html": [
       "<div>\n",
       "<style scoped>\n",
       "    .dataframe tbody tr th:only-of-type {\n",
       "        vertical-align: middle;\n",
       "    }\n",
       "\n",
       "    .dataframe tbody tr th {\n",
       "        vertical-align: top;\n",
       "    }\n",
       "\n",
       "    .dataframe thead th {\n",
       "        text-align: right;\n",
       "    }\n",
       "</style>\n",
       "<table border=\"1\" class=\"dataframe\">\n",
       "  <thead>\n",
       "    <tr style=\"text-align: right;\">\n",
       "      <th></th>\n",
       "      <th>a_i</th>\n",
       "      <th>a_i+1</th>\n",
       "      <th>values</th>\n",
       "      <th>M</th>\n",
       "      <th>h</th>\n",
       "      <th>c</th>\n",
       "    </tr>\n",
       "  </thead>\n",
       "  <tbody>\n",
       "    <tr>\n",
       "      <th>0</th>\n",
       "      <td>32.0</td>\n",
       "      <td>40.5</td>\n",
       "      <td>8</td>\n",
       "      <td>0.040</td>\n",
       "      <td>0.941176</td>\n",
       "      <td>36.25</td>\n",
       "    </tr>\n",
       "    <tr>\n",
       "      <th>1</th>\n",
       "      <td>40.5</td>\n",
       "      <td>49.0</td>\n",
       "      <td>11</td>\n",
       "      <td>0.055</td>\n",
       "      <td>1.294118</td>\n",
       "      <td>44.75</td>\n",
       "    </tr>\n",
       "    <tr>\n",
       "      <th>2</th>\n",
       "      <td>49.0</td>\n",
       "      <td>57.5</td>\n",
       "      <td>34</td>\n",
       "      <td>0.170</td>\n",
       "      <td>4.000000</td>\n",
       "      <td>53.25</td>\n",
       "    </tr>\n",
       "    <tr>\n",
       "      <th>3</th>\n",
       "      <td>57.5</td>\n",
       "      <td>66.0</td>\n",
       "      <td>34</td>\n",
       "      <td>0.170</td>\n",
       "      <td>4.000000</td>\n",
       "      <td>61.75</td>\n",
       "    </tr>\n",
       "    <tr>\n",
       "      <th>4</th>\n",
       "      <td>66.0</td>\n",
       "      <td>74.5</td>\n",
       "      <td>40</td>\n",
       "      <td>0.200</td>\n",
       "      <td>4.705882</td>\n",
       "      <td>70.25</td>\n",
       "    </tr>\n",
       "    <tr>\n",
       "      <th>5</th>\n",
       "      <td>74.5</td>\n",
       "      <td>83.0</td>\n",
       "      <td>30</td>\n",
       "      <td>0.150</td>\n",
       "      <td>3.529412</td>\n",
       "      <td>78.75</td>\n",
       "    </tr>\n",
       "    <tr>\n",
       "      <th>6</th>\n",
       "      <td>83.0</td>\n",
       "      <td>91.5</td>\n",
       "      <td>28</td>\n",
       "      <td>0.140</td>\n",
       "      <td>3.294118</td>\n",
       "      <td>87.25</td>\n",
       "    </tr>\n",
       "    <tr>\n",
       "      <th>7</th>\n",
       "      <td>91.5</td>\n",
       "      <td>100.0</td>\n",
       "      <td>15</td>\n",
       "      <td>0.075</td>\n",
       "      <td>1.764706</td>\n",
       "      <td>95.75</td>\n",
       "    </tr>\n",
       "  </tbody>\n",
       "</table>\n",
       "</div>"
      ],
      "text/plain": [
       "    a_i  a_i+1  values      M         h      c\n",
       "0  32.0   40.5       8  0.040  0.941176  36.25\n",
       "1  40.5   49.0      11  0.055  1.294118  44.75\n",
       "2  49.0   57.5      34  0.170  4.000000  53.25\n",
       "3  57.5   66.0      34  0.170  4.000000  61.75\n",
       "4  66.0   74.5      40  0.200  4.705882  70.25\n",
       "5  74.5   83.0      30  0.150  3.529412  78.75\n",
       "6  83.0   91.5      28  0.140  3.294118  87.25\n",
       "7  91.5  100.0      15  0.075  1.764706  95.75"
      ]
     },
     "execution_count": 625,
     "metadata": {},
     "output_type": "execute_result"
    }
   ],
   "source": [
    "c = []\n",
    "for i in range(k):\n",
    "    c.append((a_i[i] + a_i_plus[i]) / 2)\n",
    "reading_interval['c'] = c\n",
    "reading_interval.head(8)"
   ]
  },
  {
   "cell_type": "code",
   "execution_count": 626,
   "id": "0eb66052-06b7-49d0-9d4e-f61ba777d91c",
   "metadata": {},
   "outputs": [
    {
     "data": {
      "text/html": [
       "<div>\n",
       "<style scoped>\n",
       "    .dataframe tbody tr th:only-of-type {\n",
       "        vertical-align: middle;\n",
       "    }\n",
       "\n",
       "    .dataframe tbody tr th {\n",
       "        vertical-align: top;\n",
       "    }\n",
       "\n",
       "    .dataframe thead th {\n",
       "        text-align: right;\n",
       "    }\n",
       "</style>\n",
       "<table border=\"1\" class=\"dataframe\">\n",
       "  <thead>\n",
       "    <tr style=\"text-align: right;\">\n",
       "      <th></th>\n",
       "      <th>a_i</th>\n",
       "      <th>a_i+1</th>\n",
       "      <th>values</th>\n",
       "      <th>M</th>\n",
       "      <th>h</th>\n",
       "      <th>c</th>\n",
       "      <th>F</th>\n",
       "    </tr>\n",
       "  </thead>\n",
       "  <tbody>\n",
       "    <tr>\n",
       "      <th>0</th>\n",
       "      <td>32.0</td>\n",
       "      <td>40.5</td>\n",
       "      <td>8</td>\n",
       "      <td>0.040</td>\n",
       "      <td>0.941176</td>\n",
       "      <td>36.25</td>\n",
       "      <td>0.040</td>\n",
       "    </tr>\n",
       "    <tr>\n",
       "      <th>1</th>\n",
       "      <td>40.5</td>\n",
       "      <td>49.0</td>\n",
       "      <td>11</td>\n",
       "      <td>0.055</td>\n",
       "      <td>1.294118</td>\n",
       "      <td>44.75</td>\n",
       "      <td>0.095</td>\n",
       "    </tr>\n",
       "    <tr>\n",
       "      <th>2</th>\n",
       "      <td>49.0</td>\n",
       "      <td>57.5</td>\n",
       "      <td>34</td>\n",
       "      <td>0.170</td>\n",
       "      <td>4.000000</td>\n",
       "      <td>53.25</td>\n",
       "      <td>0.265</td>\n",
       "    </tr>\n",
       "    <tr>\n",
       "      <th>3</th>\n",
       "      <td>57.5</td>\n",
       "      <td>66.0</td>\n",
       "      <td>34</td>\n",
       "      <td>0.170</td>\n",
       "      <td>4.000000</td>\n",
       "      <td>61.75</td>\n",
       "      <td>0.435</td>\n",
       "    </tr>\n",
       "    <tr>\n",
       "      <th>4</th>\n",
       "      <td>66.0</td>\n",
       "      <td>74.5</td>\n",
       "      <td>40</td>\n",
       "      <td>0.200</td>\n",
       "      <td>4.705882</td>\n",
       "      <td>70.25</td>\n",
       "      <td>0.635</td>\n",
       "    </tr>\n",
       "    <tr>\n",
       "      <th>5</th>\n",
       "      <td>74.5</td>\n",
       "      <td>83.0</td>\n",
       "      <td>30</td>\n",
       "      <td>0.150</td>\n",
       "      <td>3.529412</td>\n",
       "      <td>78.75</td>\n",
       "      <td>0.785</td>\n",
       "    </tr>\n",
       "    <tr>\n",
       "      <th>6</th>\n",
       "      <td>83.0</td>\n",
       "      <td>91.5</td>\n",
       "      <td>28</td>\n",
       "      <td>0.140</td>\n",
       "      <td>3.294118</td>\n",
       "      <td>87.25</td>\n",
       "      <td>0.925</td>\n",
       "    </tr>\n",
       "    <tr>\n",
       "      <th>7</th>\n",
       "      <td>91.5</td>\n",
       "      <td>100.0</td>\n",
       "      <td>15</td>\n",
       "      <td>0.075</td>\n",
       "      <td>1.764706</td>\n",
       "      <td>95.75</td>\n",
       "      <td>1.000</td>\n",
       "    </tr>\n",
       "  </tbody>\n",
       "</table>\n",
       "</div>"
      ],
      "text/plain": [
       "    a_i  a_i+1  values      M         h      c      F\n",
       "0  32.0   40.5       8  0.040  0.941176  36.25  0.040\n",
       "1  40.5   49.0      11  0.055  1.294118  44.75  0.095\n",
       "2  49.0   57.5      34  0.170  4.000000  53.25  0.265\n",
       "3  57.5   66.0      34  0.170  4.000000  61.75  0.435\n",
       "4  66.0   74.5      40  0.200  4.705882  70.25  0.635\n",
       "5  74.5   83.0      30  0.150  3.529412  78.75  0.785\n",
       "6  83.0   91.5      28  0.140  3.294118  87.25  0.925\n",
       "7  91.5  100.0      15  0.075  1.764706  95.75  1.000"
      ]
     },
     "execution_count": 626,
     "metadata": {},
     "output_type": "execute_result"
    }
   ],
   "source": [
    "F = np.cumsum(reading_interval['M'])\n",
    "reading_interval['F'] = F\n",
    "reading_interval.head(8)"
   ]
  },
  {
   "cell_type": "code",
   "execution_count": 627,
   "id": "0f07cce7-57c8-45ba-8ed5-9ccee2340d1d",
   "metadata": {},
   "outputs": [
    {
     "data": {
      "text/html": [
       "<div>\n",
       "<style scoped>\n",
       "    .dataframe tbody tr th:only-of-type {\n",
       "        vertical-align: middle;\n",
       "    }\n",
       "\n",
       "    .dataframe tbody tr th {\n",
       "        vertical-align: top;\n",
       "    }\n",
       "\n",
       "    .dataframe thead th {\n",
       "        text-align: right;\n",
       "    }\n",
       "</style>\n",
       "<table border=\"1\" class=\"dataframe\">\n",
       "  <thead>\n",
       "    <tr style=\"text-align: right;\">\n",
       "      <th></th>\n",
       "      <th>a_i</th>\n",
       "      <th>a_i+1</th>\n",
       "      <th>values</th>\n",
       "      <th>M</th>\n",
       "      <th>h</th>\n",
       "      <th>c</th>\n",
       "      <th>F</th>\n",
       "      <th>c*n</th>\n",
       "      <th>(c^2)*n</th>\n",
       "    </tr>\n",
       "  </thead>\n",
       "  <tbody>\n",
       "    <tr>\n",
       "      <th>0</th>\n",
       "      <td>32.0</td>\n",
       "      <td>40.5</td>\n",
       "      <td>8</td>\n",
       "      <td>0.040</td>\n",
       "      <td>0.941176</td>\n",
       "      <td>36.25</td>\n",
       "      <td>0.040</td>\n",
       "      <td>290.00</td>\n",
       "      <td>10512.5000</td>\n",
       "    </tr>\n",
       "    <tr>\n",
       "      <th>1</th>\n",
       "      <td>40.5</td>\n",
       "      <td>49.0</td>\n",
       "      <td>11</td>\n",
       "      <td>0.055</td>\n",
       "      <td>1.294118</td>\n",
       "      <td>44.75</td>\n",
       "      <td>0.095</td>\n",
       "      <td>492.25</td>\n",
       "      <td>22028.1875</td>\n",
       "    </tr>\n",
       "    <tr>\n",
       "      <th>2</th>\n",
       "      <td>49.0</td>\n",
       "      <td>57.5</td>\n",
       "      <td>34</td>\n",
       "      <td>0.170</td>\n",
       "      <td>4.000000</td>\n",
       "      <td>53.25</td>\n",
       "      <td>0.265</td>\n",
       "      <td>1810.50</td>\n",
       "      <td>96409.1250</td>\n",
       "    </tr>\n",
       "    <tr>\n",
       "      <th>3</th>\n",
       "      <td>57.5</td>\n",
       "      <td>66.0</td>\n",
       "      <td>34</td>\n",
       "      <td>0.170</td>\n",
       "      <td>4.000000</td>\n",
       "      <td>61.75</td>\n",
       "      <td>0.435</td>\n",
       "      <td>2099.50</td>\n",
       "      <td>129644.1250</td>\n",
       "    </tr>\n",
       "    <tr>\n",
       "      <th>4</th>\n",
       "      <td>66.0</td>\n",
       "      <td>74.5</td>\n",
       "      <td>40</td>\n",
       "      <td>0.200</td>\n",
       "      <td>4.705882</td>\n",
       "      <td>70.25</td>\n",
       "      <td>0.635</td>\n",
       "      <td>2810.00</td>\n",
       "      <td>197402.5000</td>\n",
       "    </tr>\n",
       "    <tr>\n",
       "      <th>5</th>\n",
       "      <td>74.5</td>\n",
       "      <td>83.0</td>\n",
       "      <td>30</td>\n",
       "      <td>0.150</td>\n",
       "      <td>3.529412</td>\n",
       "      <td>78.75</td>\n",
       "      <td>0.785</td>\n",
       "      <td>2362.50</td>\n",
       "      <td>186046.8750</td>\n",
       "    </tr>\n",
       "    <tr>\n",
       "      <th>6</th>\n",
       "      <td>83.0</td>\n",
       "      <td>91.5</td>\n",
       "      <td>28</td>\n",
       "      <td>0.140</td>\n",
       "      <td>3.294118</td>\n",
       "      <td>87.25</td>\n",
       "      <td>0.925</td>\n",
       "      <td>2443.00</td>\n",
       "      <td>213151.7500</td>\n",
       "    </tr>\n",
       "    <tr>\n",
       "      <th>7</th>\n",
       "      <td>91.5</td>\n",
       "      <td>100.0</td>\n",
       "      <td>15</td>\n",
       "      <td>0.075</td>\n",
       "      <td>1.764706</td>\n",
       "      <td>95.75</td>\n",
       "      <td>1.000</td>\n",
       "      <td>1436.25</td>\n",
       "      <td>137520.9375</td>\n",
       "    </tr>\n",
       "  </tbody>\n",
       "</table>\n",
       "</div>"
      ],
      "text/plain": [
       "    a_i  a_i+1  values      M         h      c      F      c*n      (c^2)*n\n",
       "0  32.0   40.5       8  0.040  0.941176  36.25  0.040   290.00   10512.5000\n",
       "1  40.5   49.0      11  0.055  1.294118  44.75  0.095   492.25   22028.1875\n",
       "2  49.0   57.5      34  0.170  4.000000  53.25  0.265  1810.50   96409.1250\n",
       "3  57.5   66.0      34  0.170  4.000000  61.75  0.435  2099.50  129644.1250\n",
       "4  66.0   74.5      40  0.200  4.705882  70.25  0.635  2810.00  197402.5000\n",
       "5  74.5   83.0      30  0.150  3.529412  78.75  0.785  2362.50  186046.8750\n",
       "6  83.0   91.5      28  0.140  3.294118  87.25  0.925  2443.00  213151.7500\n",
       "7  91.5  100.0      15  0.075  1.764706  95.75  1.000  1436.25  137520.9375"
      ]
     },
     "execution_count": 627,
     "metadata": {},
     "output_type": "execute_result"
    }
   ],
   "source": [
    "val_1 = []\n",
    "val_2 = []\n",
    "for i in range(k):\n",
    "    val_1.append(reading_interval['c'][i] * reading_interval['values'][i])\n",
    "    val_2.append(reading_interval['c'][i] ** 2 * reading_interval['values'][i])\n",
    "reading_interval['c*n'] = val_1\n",
    "reading_interval['(c^2)*n'] = val_2\n",
    "reading_interval.head(8)"
   ]
  },
  {
   "cell_type": "markdown",
   "id": "fb4a2764-8e5c-4864-8f54-7097b488f8b9",
   "metadata": {
    "tags": []
   },
   "source": [
    "#### Data evaluation"
   ]
  },
  {
   "cell_type": "code",
   "execution_count": 628,
   "id": "84b0939f-2a6c-4831-a535-4913032c9adb",
   "metadata": {},
   "outputs": [
    {
     "name": "stdout",
     "output_type": "stream",
     "text": [
      "------------------\n",
      "|E:         68.72|\n",
      "------------------\n",
      "|E^2:     4963.58|\n",
      "------------------\n",
      "|Mode:      70.25|\n",
      "------------------\n",
      "|Median:    74.50|\n",
      "------------------\n",
      "|D:        241.14|\n",
      "------------------\n",
      "|p_D:      242.35|\n",
      "------------------\n",
      "|stdev:     15.53|\n",
      "------------------\n",
      "|p_stdev:   21.34|\n",
      "------------------\n"
     ]
    }
   ],
   "source": [
    "parameters = {}\n",
    "E = sum(reading_interval['c*n'] / n)\n",
    "E_pow_2 = sum(reading_interval['(c^2)*n'] / n)\n",
    "mode = reading_interval['c'][reading_interval['values'].idxmax()]\n",
    "median = (reading_interval['c'][k / 2] + reading_interval['c'][k / 2 + 1]) / 2\n",
    "D = E_pow_2 - E ** 2\n",
    "p_D = n / (n - 1) * D\n",
    "stdev = D ** (1/2)\n",
    "p_stdev = D_2 ** (1/2)\n",
    "parameters.update({'E': E,\n",
    "                   'E^2': E_pow_2,\n",
    "                   'Mode': mode,\n",
    "                   'Median': median,\n",
    "                   'D': D,\n",
    "                   'p_D': p_D,\n",
    "                   'stdev': stdev,\n",
    "                   'p_stdev': p_stdev})\n",
    "\n",
    "for key, value in parameters.items():\n",
    "    print('------------------')\n",
    "    print('|%-8s %7.2f|' % (key + ':', value))\n",
    "print('------------------')"
   ]
  },
  {
   "cell_type": "code",
   "execution_count": 629,
   "id": "d1fffe2f-90ff-4bef-9bd8-23c7ca4462b1",
   "metadata": {},
   "outputs": [
    {
     "name": "stdout",
     "output_type": "stream",
     "text": [
      "------------------\n",
      "|E:         68.59|\n",
      "------------------\n",
      "|D:        246.85|\n",
      "------------------\n",
      "|Median:    68.00|\n",
      "------------------\n",
      "|p_D:      245.61|\n",
      "------------------\n",
      "|stdev:     15.71|\n",
      "------------------\n"
     ]
    }
   ],
   "source": [
    "python_stat_params = {'E': stat.mean(reading_score),\n",
    "                      'D': stat.variance(reading_score),\n",
    "                      'Median': stat.median(reading_score),\n",
    "                      'p_D': stat.pvariance(reading_score),\n",
    "                      'stdev': stat.stdev(reading_score)}\n",
    "\n",
    "for key, value in python_stat_params.items():\n",
    "    print('------------------')\n",
    "    print('|%-8s %7.2f|' % (key + ':', value))\n",
    "print('------------------')"
   ]
  },
  {
   "cell_type": "markdown",
   "id": "989b3415-bd15-406b-bc2b-305c24aacf62",
   "metadata": {
    "tags": []
   },
   "source": [
    "#### Graphs"
   ]
  },
  {
   "cell_type": "code",
   "execution_count": 630,
   "id": "ce731bf9-74ab-4817-b0e1-06d2cb25748d",
   "metadata": {},
   "outputs": [
    {
     "data": {
      "image/png": "[encoded data removed]",
      "text/plain": [
       "<Figure size 432x288 with 1 Axes>"
      ]
     },
     "metadata": {
      "needs_background": "light"
     },
     "output_type": "display_data"
    }
   ],
   "source": [
    "fig, ax = plt.subplots()\n",
    "ax.set_ylabel('h')\n",
    "ax.set_title('Hist')\n",
    "ax.bar(reading_interval['c'], reading_interval['h'], width=5)\n",
    "plt.show()"
   ]
  },
  {
   "cell_type": "code",
   "execution_count": 631,
   "id": "00e5b846-00cc-41be-af52-f6a461729544",
   "metadata": {},
   "outputs": [
    {
     "data": {
      "image/png": "[encoded data removed]",
      "text/plain": [
       "<Figure size 432x288 with 1 Axes>"
      ]
     },
     "metadata": {
      "needs_background": "light"
     },
     "output_type": "display_data"
    }
   ],
   "source": [
    "fig, ax = plt.subplots()\n",
    "ax.set_ylabel('M')\n",
    "ax.set_title('Density')\n",
    "ax.plot(reading_interval['M'], linewidth=5.0)\n",
    "plt.show()"
   ]
  },
  {
   "cell_type": "code",
   "execution_count": 632,
   "id": "cb4b5a8c-4ee2-487e-8be1-c3f42d50c0f7",
   "metadata": {},
   "outputs": [
    {
     "data": {
      "image/png": "[encoded data removed]",
      "text/plain": [
       "<Figure size 432x288 with 1 Axes>"
      ]
     },
     "metadata": {
      "needs_background": "light"
     },
     "output_type": "display_data"
    }
   ],
   "source": [
    "fig, ax = plt.subplots()\n",
    "ax.set_ylabel('F')\n",
    "ax.set_title('Distribution')\n",
    "ax.plot(reading_interval['F'], linewidth=5.0)\n",
    "plt.show()"
   ]
  },
  {
   "cell_type": "markdown",
   "id": "88f3552c-45bd-42a5-b49c-f0077756f997",
   "metadata": {
    "jp-MarkdownHeadingCollapsed": true,
    "tags": []
   },
   "source": [
    "### Writting interval serie"
   ]
  },
  {
   "cell_type": "markdown",
   "id": "94993dbc-f95c-4388-831a-21d101550c4d",
   "metadata": {
    "jp-MarkdownHeadingCollapsed": true,
    "tags": []
   },
   "source": [
    "#### Intervals parameters"
   ]
  },
  {
   "cell_type": "code",
   "execution_count": 633,
   "id": "fce46e3f-2ba8-4ef2-b058-ecd4125c31e2",
   "metadata": {},
   "outputs": [
    {
     "name": "stdout",
     "output_type": "stream",
     "text": [
      "---------------------------\n",
      "|Number of elements:   200|\n",
      "---------------------------\n",
      "|Number of intervals:    8|\n",
      "---------------------------\n",
      "|Range of sample:       75|\n",
      "---------------------------\n",
      "|Intervals length:     8.5|\n",
      "---------------------------\n"
     ]
    }
   ],
   "source": [
    "n = writting_score.count()\n",
    "k = int(1 + np.log2(writting_score.max()).round(0))\n",
    "r = int(writting_score.max() - writting_score.min())\n",
    "l = h / k\n",
    "\n",
    "print('---------------------------')\n",
    "print('|%-8s %5.d|' % ('Number of elements:', n))\n",
    "print('---------------------------')\n",
    "print('|%-8s %4.d|' % ('Number of intervals:', k))\n",
    "print('---------------------------')\n",
    "print('|%-8s %8.d|' % ('Range of sample:', r))\n",
    "print('---------------------------')\n",
    "print('|%-8s %7.1f|' % ('Intervals length:', l))\n",
    "print('---------------------------')"
   ]
  },
  {
   "cell_type": "markdown",
   "id": "e6230d21-d238-4f34-8383-48fe569fe7e2",
   "metadata": {
    "jp-MarkdownHeadingCollapsed": true,
    "tags": []
   },
   "source": [
    "#### Table creating"
   ]
  },
  {
   "cell_type": "markdown",
   "id": "641a4425-baf3-4896-a31e-d49393baf2ac",
   "metadata": {
    "tags": []
   },
   "source": [
    "##### Intervals"
   ]
  },
  {
   "cell_type": "code",
   "execution_count": 634,
   "id": "b5a0ea66-5636-47b3-931b-73fbc3c27235",
   "metadata": {},
   "outputs": [
    {
     "data": {
      "text/html": [
       "<div>\n",
       "<style scoped>\n",
       "    .dataframe tbody tr th:only-of-type {\n",
       "        vertical-align: middle;\n",
       "    }\n",
       "\n",
       "    .dataframe tbody tr th {\n",
       "        vertical-align: top;\n",
       "    }\n",
       "\n",
       "    .dataframe thead th {\n",
       "        text-align: right;\n",
       "    }\n",
       "</style>\n",
       "<table border=\"1\" class=\"dataframe\">\n",
       "  <thead>\n",
       "    <tr style=\"text-align: right;\">\n",
       "      <th></th>\n",
       "      <th>a_i</th>\n",
       "      <th>a_i+1</th>\n",
       "    </tr>\n",
       "  </thead>\n",
       "  <tbody>\n",
       "    <tr>\n",
       "      <th>0</th>\n",
       "      <td>25.0</td>\n",
       "      <td>33.5</td>\n",
       "    </tr>\n",
       "    <tr>\n",
       "      <th>1</th>\n",
       "      <td>33.5</td>\n",
       "      <td>42.0</td>\n",
       "    </tr>\n",
       "    <tr>\n",
       "      <th>2</th>\n",
       "      <td>42.0</td>\n",
       "      <td>50.5</td>\n",
       "    </tr>\n",
       "    <tr>\n",
       "      <th>3</th>\n",
       "      <td>50.5</td>\n",
       "      <td>59.0</td>\n",
       "    </tr>\n",
       "    <tr>\n",
       "      <th>4</th>\n",
       "      <td>59.0</td>\n",
       "      <td>67.5</td>\n",
       "    </tr>\n",
       "    <tr>\n",
       "      <th>5</th>\n",
       "      <td>67.5</td>\n",
       "      <td>76.0</td>\n",
       "    </tr>\n",
       "    <tr>\n",
       "      <th>6</th>\n",
       "      <td>76.0</td>\n",
       "      <td>84.5</td>\n",
       "    </tr>\n",
       "    <tr>\n",
       "      <th>7</th>\n",
       "      <td>84.5</td>\n",
       "      <td>93.0</td>\n",
       "    </tr>\n",
       "  </tbody>\n",
       "</table>\n",
       "</div>"
      ],
      "text/plain": [
       "    a_i  a_i+1\n",
       "0  25.0   33.5\n",
       "1  33.5   42.0\n",
       "2  42.0   50.5\n",
       "3  50.5   59.0\n",
       "4  59.0   67.5\n",
       "5  67.5   76.0\n",
       "6  76.0   84.5\n",
       "7  84.5   93.0"
      ]
     },
     "execution_count": 634,
     "metadata": {},
     "output_type": "execute_result"
    }
   ],
   "source": [
    "a_i = []\n",
    "a_i_plus = []\n",
    "\n",
    "for i in range(k):\n",
    "    a_i.append(writting_score.min() + l * i)\n",
    "    a_i_plus.append(writting_score.min() + l * (i + 1))\n",
    "    \n",
    "writting_interval = pd.DataFrame({'a_i': a_i,\n",
    "                                 'a_i+1': a_i_plus})\n",
    "    \n",
    "writting_interval.head(8)"
   ]
  },
  {
   "cell_type": "markdown",
   "id": "c201dfca-c07d-489f-8581-43646bc3a7bc",
   "metadata": {
    "tags": []
   },
   "source": [
    "##### Calculating number of values in intervals"
   ]
  },
  {
   "cell_type": "code",
   "execution_count": 635,
   "id": "3c9ba952-8937-4963-b512-5b4a7102b1a5",
   "metadata": {},
   "outputs": [
    {
     "data": {
      "text/html": [
       "<div>\n",
       "<style scoped>\n",
       "    .dataframe tbody tr th:only-of-type {\n",
       "        vertical-align: middle;\n",
       "    }\n",
       "\n",
       "    .dataframe tbody tr th {\n",
       "        vertical-align: top;\n",
       "    }\n",
       "\n",
       "    .dataframe thead th {\n",
       "        text-align: right;\n",
       "    }\n",
       "</style>\n",
       "<table border=\"1\" class=\"dataframe\">\n",
       "  <thead>\n",
       "    <tr style=\"text-align: right;\">\n",
       "      <th></th>\n",
       "      <th>a_i</th>\n",
       "      <th>a_i+1</th>\n",
       "      <th>values</th>\n",
       "    </tr>\n",
       "  </thead>\n",
       "  <tbody>\n",
       "    <tr>\n",
       "      <th>0</th>\n",
       "      <td>25.0</td>\n",
       "      <td>33.5</td>\n",
       "      <td>3</td>\n",
       "    </tr>\n",
       "    <tr>\n",
       "      <th>1</th>\n",
       "      <td>33.5</td>\n",
       "      <td>42.0</td>\n",
       "      <td>7</td>\n",
       "    </tr>\n",
       "    <tr>\n",
       "      <th>2</th>\n",
       "      <td>42.0</td>\n",
       "      <td>50.5</td>\n",
       "      <td>20</td>\n",
       "    </tr>\n",
       "    <tr>\n",
       "      <th>3</th>\n",
       "      <td>50.5</td>\n",
       "      <td>59.0</td>\n",
       "      <td>36</td>\n",
       "    </tr>\n",
       "    <tr>\n",
       "      <th>4</th>\n",
       "      <td>59.0</td>\n",
       "      <td>67.5</td>\n",
       "      <td>31</td>\n",
       "    </tr>\n",
       "    <tr>\n",
       "      <th>5</th>\n",
       "      <td>67.5</td>\n",
       "      <td>76.0</td>\n",
       "      <td>34</td>\n",
       "    </tr>\n",
       "    <tr>\n",
       "      <th>6</th>\n",
       "      <td>76.0</td>\n",
       "      <td>84.5</td>\n",
       "      <td>36</td>\n",
       "    </tr>\n",
       "    <tr>\n",
       "      <th>7</th>\n",
       "      <td>84.5</td>\n",
       "      <td>93.0</td>\n",
       "      <td>21</td>\n",
       "    </tr>\n",
       "  </tbody>\n",
       "</table>\n",
       "</div>"
      ],
      "text/plain": [
       "    a_i  a_i+1  values\n",
       "0  25.0   33.5       3\n",
       "1  33.5   42.0       7\n",
       "2  42.0   50.5      20\n",
       "3  50.5   59.0      36\n",
       "4  59.0   67.5      31\n",
       "5  67.5   76.0      34\n",
       "6  76.0   84.5      36\n",
       "7  84.5   93.0      21"
      ]
     },
     "execution_count": 635,
     "metadata": {},
     "output_type": "execute_result"
    }
   ],
   "source": [
    "intervals_values = []\n",
    "values = writting_score.value_counts().sort_index()\n",
    "\n",
    "for i in range(k):\n",
    "    if i % 2 and i != (k - 1):\n",
    "        intervals_values.append(sum(values.loc[math.ceil(a_i[i]):math.trunc(a_i_plus[i] - 0.01)]))\n",
    "    else:\n",
    "        intervals_values.append(sum(values.loc[math.ceil(a_i[i]):math.trunc(a_i_plus[i])]))\n",
    "\n",
    "writting_interval['values'] = intervals_values\n",
    "writting_interval.head(8)"
   ]
  },
  {
   "cell_type": "markdown",
   "id": "fa000f91-bdff-4edc-9889-2ae849b3f635",
   "metadata": {
    "tags": []
   },
   "source": [
    "##### Adding parameters"
   ]
  },
  {
   "cell_type": "code",
   "execution_count": 636,
   "id": "a8c6fab5-d696-49fa-b2ef-986cf9bcfa23",
   "metadata": {},
   "outputs": [
    {
     "data": {
      "text/html": [
       "<div>\n",
       "<style scoped>\n",
       "    .dataframe tbody tr th:only-of-type {\n",
       "        vertical-align: middle;\n",
       "    }\n",
       "\n",
       "    .dataframe tbody tr th {\n",
       "        vertical-align: top;\n",
       "    }\n",
       "\n",
       "    .dataframe thead th {\n",
       "        text-align: right;\n",
       "    }\n",
       "</style>\n",
       "<table border=\"1\" class=\"dataframe\">\n",
       "  <thead>\n",
       "    <tr style=\"text-align: right;\">\n",
       "      <th></th>\n",
       "      <th>a_i</th>\n",
       "      <th>a_i+1</th>\n",
       "      <th>values</th>\n",
       "      <th>M</th>\n",
       "      <th>h</th>\n",
       "    </tr>\n",
       "  </thead>\n",
       "  <tbody>\n",
       "    <tr>\n",
       "      <th>0</th>\n",
       "      <td>25.0</td>\n",
       "      <td>33.5</td>\n",
       "      <td>3</td>\n",
       "      <td>0.015</td>\n",
       "      <td>0.352941</td>\n",
       "    </tr>\n",
       "    <tr>\n",
       "      <th>1</th>\n",
       "      <td>33.5</td>\n",
       "      <td>42.0</td>\n",
       "      <td>7</td>\n",
       "      <td>0.035</td>\n",
       "      <td>0.823529</td>\n",
       "    </tr>\n",
       "    <tr>\n",
       "      <th>2</th>\n",
       "      <td>42.0</td>\n",
       "      <td>50.5</td>\n",
       "      <td>20</td>\n",
       "      <td>0.100</td>\n",
       "      <td>2.352941</td>\n",
       "    </tr>\n",
       "    <tr>\n",
       "      <th>3</th>\n",
       "      <td>50.5</td>\n",
       "      <td>59.0</td>\n",
       "      <td>36</td>\n",
       "      <td>0.180</td>\n",
       "      <td>4.235294</td>\n",
       "    </tr>\n",
       "    <tr>\n",
       "      <th>4</th>\n",
       "      <td>59.0</td>\n",
       "      <td>67.5</td>\n",
       "      <td>31</td>\n",
       "      <td>0.155</td>\n",
       "      <td>3.647059</td>\n",
       "    </tr>\n",
       "    <tr>\n",
       "      <th>5</th>\n",
       "      <td>67.5</td>\n",
       "      <td>76.0</td>\n",
       "      <td>34</td>\n",
       "      <td>0.170</td>\n",
       "      <td>4.000000</td>\n",
       "    </tr>\n",
       "    <tr>\n",
       "      <th>6</th>\n",
       "      <td>76.0</td>\n",
       "      <td>84.5</td>\n",
       "      <td>36</td>\n",
       "      <td>0.180</td>\n",
       "      <td>4.235294</td>\n",
       "    </tr>\n",
       "    <tr>\n",
       "      <th>7</th>\n",
       "      <td>84.5</td>\n",
       "      <td>93.0</td>\n",
       "      <td>21</td>\n",
       "      <td>0.105</td>\n",
       "      <td>2.470588</td>\n",
       "    </tr>\n",
       "  </tbody>\n",
       "</table>\n",
       "</div>"
      ],
      "text/plain": [
       "    a_i  a_i+1  values      M         h\n",
       "0  25.0   33.5       3  0.015  0.352941\n",
       "1  33.5   42.0       7  0.035  0.823529\n",
       "2  42.0   50.5      20  0.100  2.352941\n",
       "3  50.5   59.0      36  0.180  4.235294\n",
       "4  59.0   67.5      31  0.155  3.647059\n",
       "5  67.5   76.0      34  0.170  4.000000\n",
       "6  76.0   84.5      36  0.180  4.235294\n",
       "7  84.5   93.0      21  0.105  2.470588"
      ]
     },
     "execution_count": 636,
     "metadata": {},
     "output_type": "execute_result"
    }
   ],
   "source": [
    "M = []\n",
    "H = []\n",
    "for value in writting_interval['values']:\n",
    "    M.append(value / n)\n",
    "    H.append(value / l)\n",
    "    \n",
    "writting_interval['M'] = M\n",
    "writting_interval['h'] = H\n",
    "writting_interval.head(8)"
   ]
  },
  {
   "cell_type": "code",
   "execution_count": 637,
   "id": "4a9bc39a-baf0-4821-990b-b061025d6efa",
   "metadata": {},
   "outputs": [
    {
     "data": {
      "text/html": [
       "<div>\n",
       "<style scoped>\n",
       "    .dataframe tbody tr th:only-of-type {\n",
       "        vertical-align: middle;\n",
       "    }\n",
       "\n",
       "    .dataframe tbody tr th {\n",
       "        vertical-align: top;\n",
       "    }\n",
       "\n",
       "    .dataframe thead th {\n",
       "        text-align: right;\n",
       "    }\n",
       "</style>\n",
       "<table border=\"1\" class=\"dataframe\">\n",
       "  <thead>\n",
       "    <tr style=\"text-align: right;\">\n",
       "      <th></th>\n",
       "      <th>a_i</th>\n",
       "      <th>a_i+1</th>\n",
       "      <th>values</th>\n",
       "      <th>M</th>\n",
       "      <th>h</th>\n",
       "      <th>c</th>\n",
       "    </tr>\n",
       "  </thead>\n",
       "  <tbody>\n",
       "    <tr>\n",
       "      <th>0</th>\n",
       "      <td>25.0</td>\n",
       "      <td>33.5</td>\n",
       "      <td>3</td>\n",
       "      <td>0.015</td>\n",
       "      <td>0.352941</td>\n",
       "      <td>29.25</td>\n",
       "    </tr>\n",
       "    <tr>\n",
       "      <th>1</th>\n",
       "      <td>33.5</td>\n",
       "      <td>42.0</td>\n",
       "      <td>7</td>\n",
       "      <td>0.035</td>\n",
       "      <td>0.823529</td>\n",
       "      <td>37.75</td>\n",
       "    </tr>\n",
       "    <tr>\n",
       "      <th>2</th>\n",
       "      <td>42.0</td>\n",
       "      <td>50.5</td>\n",
       "      <td>20</td>\n",
       "      <td>0.100</td>\n",
       "      <td>2.352941</td>\n",
       "      <td>46.25</td>\n",
       "    </tr>\n",
       "    <tr>\n",
       "      <th>3</th>\n",
       "      <td>50.5</td>\n",
       "      <td>59.0</td>\n",
       "      <td>36</td>\n",
       "      <td>0.180</td>\n",
       "      <td>4.235294</td>\n",
       "      <td>54.75</td>\n",
       "    </tr>\n",
       "    <tr>\n",
       "      <th>4</th>\n",
       "      <td>59.0</td>\n",
       "      <td>67.5</td>\n",
       "      <td>31</td>\n",
       "      <td>0.155</td>\n",
       "      <td>3.647059</td>\n",
       "      <td>63.25</td>\n",
       "    </tr>\n",
       "    <tr>\n",
       "      <th>5</th>\n",
       "      <td>67.5</td>\n",
       "      <td>76.0</td>\n",
       "      <td>34</td>\n",
       "      <td>0.170</td>\n",
       "      <td>4.000000</td>\n",
       "      <td>71.75</td>\n",
       "    </tr>\n",
       "    <tr>\n",
       "      <th>6</th>\n",
       "      <td>76.0</td>\n",
       "      <td>84.5</td>\n",
       "      <td>36</td>\n",
       "      <td>0.180</td>\n",
       "      <td>4.235294</td>\n",
       "      <td>80.25</td>\n",
       "    </tr>\n",
       "    <tr>\n",
       "      <th>7</th>\n",
       "      <td>84.5</td>\n",
       "      <td>93.0</td>\n",
       "      <td>21</td>\n",
       "      <td>0.105</td>\n",
       "      <td>2.470588</td>\n",
       "      <td>88.75</td>\n",
       "    </tr>\n",
       "  </tbody>\n",
       "</table>\n",
       "</div>"
      ],
      "text/plain": [
       "    a_i  a_i+1  values      M         h      c\n",
       "0  25.0   33.5       3  0.015  0.352941  29.25\n",
       "1  33.5   42.0       7  0.035  0.823529  37.75\n",
       "2  42.0   50.5      20  0.100  2.352941  46.25\n",
       "3  50.5   59.0      36  0.180  4.235294  54.75\n",
       "4  59.0   67.5      31  0.155  3.647059  63.25\n",
       "5  67.5   76.0      34  0.170  4.000000  71.75\n",
       "6  76.0   84.5      36  0.180  4.235294  80.25\n",
       "7  84.5   93.0      21  0.105  2.470588  88.75"
      ]
     },
     "execution_count": 637,
     "metadata": {},
     "output_type": "execute_result"
    }
   ],
   "source": [
    "c = []\n",
    "for i in range(k):\n",
    "    c.append((a_i[i] + a_i_plus[i]) / 2)\n",
    "writting_interval['c'] = c\n",
    "writting_interval.head(8)"
   ]
  },
  {
   "cell_type": "code",
   "execution_count": 638,
   "id": "e984fae2-e29d-4842-b4c8-fbb5ff75e9e1",
   "metadata": {},
   "outputs": [
    {
     "data": {
      "text/html": [
       "<div>\n",
       "<style scoped>\n",
       "    .dataframe tbody tr th:only-of-type {\n",
       "        vertical-align: middle;\n",
       "    }\n",
       "\n",
       "    .dataframe tbody tr th {\n",
       "        vertical-align: top;\n",
       "    }\n",
       "\n",
       "    .dataframe thead th {\n",
       "        text-align: right;\n",
       "    }\n",
       "</style>\n",
       "<table border=\"1\" class=\"dataframe\">\n",
       "  <thead>\n",
       "    <tr style=\"text-align: right;\">\n",
       "      <th></th>\n",
       "      <th>a_i</th>\n",
       "      <th>a_i+1</th>\n",
       "      <th>values</th>\n",
       "      <th>M</th>\n",
       "      <th>h</th>\n",
       "      <th>c</th>\n",
       "      <th>F</th>\n",
       "    </tr>\n",
       "  </thead>\n",
       "  <tbody>\n",
       "    <tr>\n",
       "      <th>0</th>\n",
       "      <td>25.0</td>\n",
       "      <td>33.5</td>\n",
       "      <td>3</td>\n",
       "      <td>0.015</td>\n",
       "      <td>0.352941</td>\n",
       "      <td>29.25</td>\n",
       "      <td>0.015</td>\n",
       "    </tr>\n",
       "    <tr>\n",
       "      <th>1</th>\n",
       "      <td>33.5</td>\n",
       "      <td>42.0</td>\n",
       "      <td>7</td>\n",
       "      <td>0.035</td>\n",
       "      <td>0.823529</td>\n",
       "      <td>37.75</td>\n",
       "      <td>0.050</td>\n",
       "    </tr>\n",
       "    <tr>\n",
       "      <th>2</th>\n",
       "      <td>42.0</td>\n",
       "      <td>50.5</td>\n",
       "      <td>20</td>\n",
       "      <td>0.100</td>\n",
       "      <td>2.352941</td>\n",
       "      <td>46.25</td>\n",
       "      <td>0.150</td>\n",
       "    </tr>\n",
       "    <tr>\n",
       "      <th>3</th>\n",
       "      <td>50.5</td>\n",
       "      <td>59.0</td>\n",
       "      <td>36</td>\n",
       "      <td>0.180</td>\n",
       "      <td>4.235294</td>\n",
       "      <td>54.75</td>\n",
       "      <td>0.330</td>\n",
       "    </tr>\n",
       "    <tr>\n",
       "      <th>4</th>\n",
       "      <td>59.0</td>\n",
       "      <td>67.5</td>\n",
       "      <td>31</td>\n",
       "      <td>0.155</td>\n",
       "      <td>3.647059</td>\n",
       "      <td>63.25</td>\n",
       "      <td>0.485</td>\n",
       "    </tr>\n",
       "    <tr>\n",
       "      <th>5</th>\n",
       "      <td>67.5</td>\n",
       "      <td>76.0</td>\n",
       "      <td>34</td>\n",
       "      <td>0.170</td>\n",
       "      <td>4.000000</td>\n",
       "      <td>71.75</td>\n",
       "      <td>0.655</td>\n",
       "    </tr>\n",
       "    <tr>\n",
       "      <th>6</th>\n",
       "      <td>76.0</td>\n",
       "      <td>84.5</td>\n",
       "      <td>36</td>\n",
       "      <td>0.180</td>\n",
       "      <td>4.235294</td>\n",
       "      <td>80.25</td>\n",
       "      <td>0.835</td>\n",
       "    </tr>\n",
       "    <tr>\n",
       "      <th>7</th>\n",
       "      <td>84.5</td>\n",
       "      <td>93.0</td>\n",
       "      <td>21</td>\n",
       "      <td>0.105</td>\n",
       "      <td>2.470588</td>\n",
       "      <td>88.75</td>\n",
       "      <td>0.940</td>\n",
       "    </tr>\n",
       "  </tbody>\n",
       "</table>\n",
       "</div>"
      ],
      "text/plain": [
       "    a_i  a_i+1  values      M         h      c      F\n",
       "0  25.0   33.5       3  0.015  0.352941  29.25  0.015\n",
       "1  33.5   42.0       7  0.035  0.823529  37.75  0.050\n",
       "2  42.0   50.5      20  0.100  2.352941  46.25  0.150\n",
       "3  50.5   59.0      36  0.180  4.235294  54.75  0.330\n",
       "4  59.0   67.5      31  0.155  3.647059  63.25  0.485\n",
       "5  67.5   76.0      34  0.170  4.000000  71.75  0.655\n",
       "6  76.0   84.5      36  0.180  4.235294  80.25  0.835\n",
       "7  84.5   93.0      21  0.105  2.470588  88.75  0.940"
      ]
     },
     "execution_count": 638,
     "metadata": {},
     "output_type": "execute_result"
    }
   ],
   "source": [
    "F = np.cumsum(writting_interval['M'])\n",
    "writting_interval['F'] = F\n",
    "writting_interval.head(8)"
   ]
  },
  {
   "cell_type": "code",
   "execution_count": 639,
   "id": "70987ccd-5c8d-4ad7-ad2c-d690dd4f6ffa",
   "metadata": {},
   "outputs": [
    {
     "data": {
      "text/html": [
       "<div>\n",
       "<style scoped>\n",
       "    .dataframe tbody tr th:only-of-type {\n",
       "        vertical-align: middle;\n",
       "    }\n",
       "\n",
       "    .dataframe tbody tr th {\n",
       "        vertical-align: top;\n",
       "    }\n",
       "\n",
       "    .dataframe thead th {\n",
       "        text-align: right;\n",
       "    }\n",
       "</style>\n",
       "<table border=\"1\" class=\"dataframe\">\n",
       "  <thead>\n",
       "    <tr style=\"text-align: right;\">\n",
       "      <th></th>\n",
       "      <th>a_i</th>\n",
       "      <th>a_i+1</th>\n",
       "      <th>values</th>\n",
       "      <th>M</th>\n",
       "      <th>h</th>\n",
       "      <th>c</th>\n",
       "      <th>F</th>\n",
       "      <th>c*n</th>\n",
       "      <th>(c^2)*n</th>\n",
       "    </tr>\n",
       "  </thead>\n",
       "  <tbody>\n",
       "    <tr>\n",
       "      <th>0</th>\n",
       "      <td>25.0</td>\n",
       "      <td>33.5</td>\n",
       "      <td>3</td>\n",
       "      <td>0.015</td>\n",
       "      <td>0.352941</td>\n",
       "      <td>29.25</td>\n",
       "      <td>0.015</td>\n",
       "      <td>87.75</td>\n",
       "      <td>2566.6875</td>\n",
       "    </tr>\n",
       "    <tr>\n",
       "      <th>1</th>\n",
       "      <td>33.5</td>\n",
       "      <td>42.0</td>\n",
       "      <td>7</td>\n",
       "      <td>0.035</td>\n",
       "      <td>0.823529</td>\n",
       "      <td>37.75</td>\n",
       "      <td>0.050</td>\n",
       "      <td>264.25</td>\n",
       "      <td>9975.4375</td>\n",
       "    </tr>\n",
       "    <tr>\n",
       "      <th>2</th>\n",
       "      <td>42.0</td>\n",
       "      <td>50.5</td>\n",
       "      <td>20</td>\n",
       "      <td>0.100</td>\n",
       "      <td>2.352941</td>\n",
       "      <td>46.25</td>\n",
       "      <td>0.150</td>\n",
       "      <td>925.00</td>\n",
       "      <td>42781.2500</td>\n",
       "    </tr>\n",
       "    <tr>\n",
       "      <th>3</th>\n",
       "      <td>50.5</td>\n",
       "      <td>59.0</td>\n",
       "      <td>36</td>\n",
       "      <td>0.180</td>\n",
       "      <td>4.235294</td>\n",
       "      <td>54.75</td>\n",
       "      <td>0.330</td>\n",
       "      <td>1971.00</td>\n",
       "      <td>107912.2500</td>\n",
       "    </tr>\n",
       "    <tr>\n",
       "      <th>4</th>\n",
       "      <td>59.0</td>\n",
       "      <td>67.5</td>\n",
       "      <td>31</td>\n",
       "      <td>0.155</td>\n",
       "      <td>3.647059</td>\n",
       "      <td>63.25</td>\n",
       "      <td>0.485</td>\n",
       "      <td>1960.75</td>\n",
       "      <td>124017.4375</td>\n",
       "    </tr>\n",
       "    <tr>\n",
       "      <th>5</th>\n",
       "      <td>67.5</td>\n",
       "      <td>76.0</td>\n",
       "      <td>34</td>\n",
       "      <td>0.170</td>\n",
       "      <td>4.000000</td>\n",
       "      <td>71.75</td>\n",
       "      <td>0.655</td>\n",
       "      <td>2439.50</td>\n",
       "      <td>175034.1250</td>\n",
       "    </tr>\n",
       "    <tr>\n",
       "      <th>6</th>\n",
       "      <td>76.0</td>\n",
       "      <td>84.5</td>\n",
       "      <td>36</td>\n",
       "      <td>0.180</td>\n",
       "      <td>4.235294</td>\n",
       "      <td>80.25</td>\n",
       "      <td>0.835</td>\n",
       "      <td>2889.00</td>\n",
       "      <td>231842.2500</td>\n",
       "    </tr>\n",
       "    <tr>\n",
       "      <th>7</th>\n",
       "      <td>84.5</td>\n",
       "      <td>93.0</td>\n",
       "      <td>21</td>\n",
       "      <td>0.105</td>\n",
       "      <td>2.470588</td>\n",
       "      <td>88.75</td>\n",
       "      <td>0.940</td>\n",
       "      <td>1863.75</td>\n",
       "      <td>165407.8125</td>\n",
       "    </tr>\n",
       "  </tbody>\n",
       "</table>\n",
       "</div>"
      ],
      "text/plain": [
       "    a_i  a_i+1  values      M         h      c      F      c*n      (c^2)*n\n",
       "0  25.0   33.5       3  0.015  0.352941  29.25  0.015    87.75    2566.6875\n",
       "1  33.5   42.0       7  0.035  0.823529  37.75  0.050   264.25    9975.4375\n",
       "2  42.0   50.5      20  0.100  2.352941  46.25  0.150   925.00   42781.2500\n",
       "3  50.5   59.0      36  0.180  4.235294  54.75  0.330  1971.00  107912.2500\n",
       "4  59.0   67.5      31  0.155  3.647059  63.25  0.485  1960.75  124017.4375\n",
       "5  67.5   76.0      34  0.170  4.000000  71.75  0.655  2439.50  175034.1250\n",
       "6  76.0   84.5      36  0.180  4.235294  80.25  0.835  2889.00  231842.2500\n",
       "7  84.5   93.0      21  0.105  2.470588  88.75  0.940  1863.75  165407.8125"
      ]
     },
     "execution_count": 639,
     "metadata": {},
     "output_type": "execute_result"
    }
   ],
   "source": [
    "val_1 = []\n",
    "val_2 = []\n",
    "for i in range(k):\n",
    "    val_1.append(writting_interval['c'][i] * writting_interval['values'][i])\n",
    "    val_2.append(writting_interval['c'][i] ** 2 * writting_interval['values'][i])\n",
    "writting_interval['c*n'] = val_1\n",
    "writting_interval['(c^2)*n'] = val_2\n",
    "writting_interval.head(8)"
   ]
  },
  {
   "cell_type": "markdown",
   "id": "7548b657-2ce6-4a1c-86f9-ecb64f78d821",
   "metadata": {
    "jp-MarkdownHeadingCollapsed": true,
    "tags": []
   },
   "source": [
    "#### Data evaluation"
   ]
  },
  {
   "cell_type": "code",
   "execution_count": 640,
   "id": "277fd716-5372-4464-99e0-20d03a568133",
   "metadata": {},
   "outputs": [
    {
     "name": "stdout",
     "output_type": "stream",
     "text": [
      "------------------\n",
      "|E:         62.01|\n",
      "------------------\n",
      "|E^2:     4297.69|\n",
      "------------------\n",
      "|Mode:      54.75|\n",
      "------------------\n",
      "|Median:    67.50|\n",
      "------------------\n",
      "|D:        453.07|\n",
      "------------------\n",
      "|p_D:      455.34|\n",
      "------------------\n",
      "|stdev:     21.29|\n",
      "------------------\n",
      "|p_stdev:   21.34|\n",
      "------------------\n"
     ]
    }
   ],
   "source": [
    "parameters = {}\n",
    "E = sum(writting_interval['c*n'] / n)\n",
    "E_pow_2 = sum(writting_interval['(c^2)*n'] / n)\n",
    "mode = writting_interval['c'][writting_interval['values'].idxmax()]\n",
    "median = (writting_interval['c'][k / 2] + writting_interval['c'][k / 2 + 1]) / 2\n",
    "D = E_pow_2 - E ** 2\n",
    "p_D = n / (n - 1) * D\n",
    "stdev = D ** (1/2)\n",
    "p_stdev = D_2 ** (1/2)\n",
    "parameters.update({'E': E,\n",
    "                   'E^2': E_pow_2,\n",
    "                   'Mode': mode,\n",
    "                   'Median': median,\n",
    "                   'D': D,\n",
    "                   'p_D': p_D,\n",
    "                   'stdev': stdev,\n",
    "                   'p_stdev': p_stdev})\n",
    "\n",
    "for key, value in parameters.items():\n",
    "    print('------------------')\n",
    "    print('|%-8s %7.2f|' % (key + ':', value))\n",
    "print('------------------')"
   ]
  },
  {
   "cell_type": "code",
   "execution_count": 641,
   "id": "9d3a6388-ea54-4774-aa5b-f435b5e0eb8d",
   "metadata": {},
   "outputs": [
    {
     "name": "stdout",
     "output_type": "stream",
     "text": [
      "------------------\n",
      "|E:         67.76|\n",
      "------------------\n",
      "|Median:    68.00|\n",
      "------------------\n",
      "|D:        270.31|\n",
      "------------------\n",
      "|p_D:      268.96|\n",
      "------------------\n",
      "|stdev:     16.44|\n",
      "------------------\n"
     ]
    }
   ],
   "source": [
    "python_stat_params = {'E': stat.mean(writting_score),\n",
    "                      'Median': stat.median(writting_score),\n",
    "                      'D': stat.variance(writting_score),\n",
    "                      'p_D': stat.pvariance(writting_score),\n",
    "                      'stdev': stat.stdev(writting_score)}\n",
    "\n",
    "for key, value in python_stat_params.items():\n",
    "    print('------------------')\n",
    "    print('|%-8s %7.2f|' % (key + ':', value))\n",
    "print('------------------')"
   ]
  },
  {
   "cell_type": "markdown",
   "id": "b97c9766-9b6d-4461-958d-507846e172f2",
   "metadata": {
    "jp-MarkdownHeadingCollapsed": true,
    "tags": []
   },
   "source": [
    "#### Graphs"
   ]
  },
  {
   "cell_type": "code",
   "execution_count": 642,
   "id": "22228d1a-7242-4eaf-a22d-f3d44fee8e37",
   "metadata": {},
   "outputs": [
    {
     "data": {
      "image/png": "[encoded data removed]",
      "text/plain": [
       "<Figure size 432x288 with 1 Axes>"
      ]
     },
     "metadata": {
      "needs_background": "light"
     },
     "output_type": "display_data"
    }
   ],
   "source": [
    "fig, ax = plt.subplots()\n",
    "ax.set_ylabel('h')\n",
    "ax.set_title('Hist')\n",
    "ax.bar(writting_interval['c'], writting_interval['h'], width=5)\n",
    "plt.show()"
   ]
  },
  {
   "cell_type": "code",
   "execution_count": 643,
   "id": "dcbb138f-1649-40c5-8b3b-a3a89da36e8f",
   "metadata": {},
   "outputs": [
    {
     "data": {
      "image/png": "[encoded data removed]",
      "text/plain": [
       "<Figure size 432x288 with 1 Axes>"
      ]
     },
     "metadata": {
      "needs_background": "light"
     },
     "output_type": "display_data"
    }
   ],
   "source": [
    "fig, ax = plt.subplots()\n",
    "ax.set_ylabel('M')\n",
    "ax.set_title('Density')\n",
    "ax.plot(writting_interval['M'], linewidth=5.0)\n",
    "plt.show()"
   ]
  },
  {
   "cell_type": "code",
   "execution_count": 644,
   "id": "e14a7ddd-569a-4290-97ff-f40db15a034f",
   "metadata": {},
   "outputs": [
    {
     "data": {
      "image/png": "[encoded data removed]",
      "text/plain": [
       "<Figure size 432x288 with 1 Axes>"
      ]
     },
     "metadata": {
      "needs_background": "light"
     },
     "output_type": "display_data"
    }
   ],
   "source": [
    "fig, ax = plt.subplots()\n",
    "ax.set_ylabel('F')\n",
    "ax.set_title('Distribution')\n",
    "ax.plot(writting_interval['F'], linewidth=5.0)\n",
    "plt.show()"
   ]
  },
  {
   "cell_type": "markdown",
   "id": "bd1159c2-9165-4979-90c7-3a98daea77d6",
   "metadata": {
    "tags": []
   },
   "source": [
    "## Conclusion"
   ]
  },
  {
   "cell_type": "markdown",
   "id": "67146307-0ecc-4ba6-b809-ed697696a986",
   "metadata": {
    "tags": []
   },
   "source": [
    "##### В данных 'reading scores' оценки полученые в ходе самостаятельных вычислений схожи с оценками получеными с использованием библиотеки 'Statistics', есть предположение, что данные соответствуют нормальному распределению, но проверить в данной лабораторной эту гипотезу мы не можем.\n",
    "\n",
    "##### В данных 'writing scores' оценки полученные в ходе самостаятельных вычислений имеют значительныю разницу c оценками получеными с использованием библиотеки 'Statistics', не могу точно сказать с чем это связано. Также стоит сделать предположение, что данные не относяться к стандартным типам распределения случайной велечины\n",
    "\n",
    "#\n",
    "\n",
    "##### Работу выполнял Кравченко Д.\n",
    "##### Группа R3338\n",
    "##### Вариант 3"
   ]
  }
 ],
 "metadata": {
  "kernelspec": {
   "display_name": "Python 3 (ipykernel)",
   "language": "python",
   "name": "python3"
  },
  "language_info": {
   "codemirror_mode": {
    "name": "ipython",
    "version": 3
   },
   "file_extension": ".py",
   "mimetype": "text/x-python",
   "name": "python",
   "nbconvert_exporter": "python",
   "pygments_lexer": "ipython3",
   "version": "3.10.4"
  }
 },
 "nbformat": 4,
 "nbformat_minor": 5
}
