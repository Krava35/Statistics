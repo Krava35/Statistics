{
 "cells": [
  {
   "cell_type": "markdown",
   "id": "48b7e696-4592-4665-8840-d65c5e1170dd",
   "metadata": {},
   "source": [
    "# Lab 2"
   ]
  },
  {
   "cell_type": "markdown",
   "id": "a67045d6-1e8b-44e3-9fe6-47791d640a40",
   "metadata": {},
   "source": [
    "## Import libs"
   ]
  },
  {
   "cell_type": "code",
   "execution_count": 1,
   "id": "845697fb-0303-4cee-aec0-9f45b883341e",
   "metadata": {},
   "outputs": [],
   "source": [
    "import pandas as pd\n",
    "import numpy as np\n",
    "import matplotlib.pyplot as plt\n",
    "import statistics as stat\n",
    "import math\n",
    "import scipy.stats"
   ]
  },
  {
   "cell_type": "code",
   "execution_count": 37,
   "id": "d41548d1-dc5e-4d70-bbdf-e8558a3d27ca",
   "metadata": {},
   "outputs": [],
   "source": [
    "mu = 67.21\n",
    "sigma_2 = 248.21\n",
    "gamma = 0.95"
   ]
  },
  {
   "cell_type": "markdown",
   "id": "1d804d21-f108-4f48-b9b2-2ec57fa4f8a3",
   "metadata": {
    "tags": []
   },
   "source": [
    "## Read data"
   ]
  },
  {
   "cell_type": "code",
   "execution_count": 2,
   "id": "8e958d7a-2b4f-4a14-98d0-31ffd277a0d8",
   "metadata": {},
   "outputs": [
    {
     "data": {
      "text/html": [
       "<div>\n",
       "<style scoped>\n",
       "    .dataframe tbody tr th:only-of-type {\n",
       "        vertical-align: middle;\n",
       "    }\n",
       "\n",
       "    .dataframe tbody tr th {\n",
       "        vertical-align: top;\n",
       "    }\n",
       "\n",
       "    .dataframe thead th {\n",
       "        text-align: right;\n",
       "    }\n",
       "</style>\n",
       "<table border=\"1\" class=\"dataframe\">\n",
       "  <thead>\n",
       "    <tr style=\"text-align: right;\">\n",
       "      <th></th>\n",
       "      <th>reading score</th>\n",
       "      <th>writing score</th>\n",
       "    </tr>\n",
       "  </thead>\n",
       "  <tbody>\n",
       "    <tr>\n",
       "      <th>0</th>\n",
       "      <td>47</td>\n",
       "      <td>32</td>\n",
       "    </tr>\n",
       "    <tr>\n",
       "      <th>1</th>\n",
       "      <td>71</td>\n",
       "      <td>21</td>\n",
       "    </tr>\n",
       "    <tr>\n",
       "      <th>2</th>\n",
       "      <td>73</td>\n",
       "      <td>35</td>\n",
       "    </tr>\n",
       "    <tr>\n",
       "      <th>3</th>\n",
       "      <td>86</td>\n",
       "      <td>36</td>\n",
       "    </tr>\n",
       "    <tr>\n",
       "      <th>4</th>\n",
       "      <td>100</td>\n",
       "      <td>10</td>\n",
       "    </tr>\n",
       "    <tr>\n",
       "      <th>5</th>\n",
       "      <td>86</td>\n",
       "      <td>10</td>\n",
       "    </tr>\n",
       "    <tr>\n",
       "      <th>6</th>\n",
       "      <td>75</td>\n",
       "      <td>54</td>\n",
       "    </tr>\n",
       "    <tr>\n",
       "      <th>7</th>\n",
       "      <td>52</td>\n",
       "      <td>35</td>\n",
       "    </tr>\n",
       "    <tr>\n",
       "      <th>8</th>\n",
       "      <td>48</td>\n",
       "      <td>55</td>\n",
       "    </tr>\n",
       "    <tr>\n",
       "      <th>9</th>\n",
       "      <td>71</td>\n",
       "      <td>10</td>\n",
       "    </tr>\n",
       "  </tbody>\n",
       "</table>\n",
       "</div>"
      ],
      "text/plain": [
       "   reading score  writing score\n",
       "0             47             32\n",
       "1             71             21\n",
       "2             73             35\n",
       "3             86             36\n",
       "4            100             10\n",
       "5             86             10\n",
       "6             75             54\n",
       "7             52             35\n",
       "8             48             55\n",
       "9             71             10"
      ]
     },
     "execution_count": 2,
     "metadata": {},
     "output_type": "execute_result"
    }
   ],
   "source": [
    "df = pd.read_excel('/Users/dkravchenko/Jupyter_Notebookes/MathStat/lab2/data.xlsx')\n",
    "df.head(10)"
   ]
  },
  {
   "cell_type": "code",
   "execution_count": 3,
   "id": "4004d9d6-443a-4755-a560-30e0e0682e36",
   "metadata": {},
   "outputs": [
    {
     "name": "stdout",
     "output_type": "stream",
     "text": [
      "<class 'pandas.core.frame.DataFrame'>\n",
      "RangeIndex: 200 entries, 0 to 199\n",
      "Data columns (total 2 columns):\n",
      " #   Column         Non-Null Count  Dtype\n",
      "---  ------         --------------  -----\n",
      " 0   reading score  200 non-null    int64\n",
      " 1   writing score  200 non-null    int64\n",
      "dtypes: int64(2)\n",
      "memory usage: 3.2 KB\n"
     ]
    }
   ],
   "source": [
    "df.info()"
   ]
  },
  {
   "cell_type": "markdown",
   "id": "d54d3355-ff7c-4da9-902f-eca35bc63e01",
   "metadata": {
    "tags": []
   },
   "source": [
    "#### Reading scores serie"
   ]
  },
  {
   "cell_type": "code",
   "execution_count": 4,
   "id": "236a56c4-7ef2-49f0-a8fd-61b67f1b11f9",
   "metadata": {},
   "outputs": [],
   "source": [
    "reading_score = df['reading score'].sort_values()"
   ]
  },
  {
   "cell_type": "code",
   "execution_count": 5,
   "id": "b69cb270-ea20-4c79-9f32-df6b3a0c16b3",
   "metadata": {},
   "outputs": [
    {
     "data": {
      "text/plain": [
       "count    200.000000\n",
       "mean      68.590000\n",
       "std       15.711338\n",
       "min       32.000000\n",
       "25%       56.750000\n",
       "50%       68.000000\n",
       "75%       80.250000\n",
       "max      100.000000\n",
       "Name: reading score, dtype: float64"
      ]
     },
     "execution_count": 5,
     "metadata": {},
     "output_type": "execute_result"
    }
   ],
   "source": [
    "reading_score.describe()"
   ]
  },
  {
   "cell_type": "markdown",
   "id": "c6937cbb-803a-4544-8e9d-3f3d610fc8d8",
   "metadata": {},
   "source": [
    "##### Intervals"
   ]
  },
  {
   "cell_type": "code",
   "execution_count": 40,
   "id": "b955bffe-9da9-49fc-a6af-b51fc3a3f112",
   "metadata": {},
   "outputs": [
    {
     "data": {
      "text/html": [
       "<div>\n",
       "<style scoped>\n",
       "    .dataframe tbody tr th:only-of-type {\n",
       "        vertical-align: middle;\n",
       "    }\n",
       "\n",
       "    .dataframe tbody tr th {\n",
       "        vertical-align: top;\n",
       "    }\n",
       "\n",
       "    .dataframe thead th {\n",
       "        text-align: right;\n",
       "    }\n",
       "</style>\n",
       "<table border=\"1\" class=\"dataframe\">\n",
       "  <thead>\n",
       "    <tr style=\"text-align: right;\">\n",
       "      <th></th>\n",
       "      <th>a_i</th>\n",
       "      <th>a_i+1</th>\n",
       "    </tr>\n",
       "  </thead>\n",
       "  <tbody>\n",
       "    <tr>\n",
       "      <th>0</th>\n",
       "      <td>32.000000</td>\n",
       "      <td>36.857143</td>\n",
       "    </tr>\n",
       "    <tr>\n",
       "      <th>1</th>\n",
       "      <td>36.857143</td>\n",
       "      <td>41.714286</td>\n",
       "    </tr>\n",
       "    <tr>\n",
       "      <th>2</th>\n",
       "      <td>41.714286</td>\n",
       "      <td>46.571429</td>\n",
       "    </tr>\n",
       "    <tr>\n",
       "      <th>3</th>\n",
       "      <td>46.571429</td>\n",
       "      <td>51.428571</td>\n",
       "    </tr>\n",
       "    <tr>\n",
       "      <th>4</th>\n",
       "      <td>51.428571</td>\n",
       "      <td>56.285714</td>\n",
       "    </tr>\n",
       "    <tr>\n",
       "      <th>5</th>\n",
       "      <td>56.285714</td>\n",
       "      <td>61.142857</td>\n",
       "    </tr>\n",
       "    <tr>\n",
       "      <th>6</th>\n",
       "      <td>61.142857</td>\n",
       "      <td>66.000000</td>\n",
       "    </tr>\n",
       "    <tr>\n",
       "      <th>7</th>\n",
       "      <td>66.000000</td>\n",
       "      <td>70.857143</td>\n",
       "    </tr>\n",
       "    <tr>\n",
       "      <th>8</th>\n",
       "      <td>70.857143</td>\n",
       "      <td>75.714286</td>\n",
       "    </tr>\n",
       "    <tr>\n",
       "      <th>9</th>\n",
       "      <td>75.714286</td>\n",
       "      <td>80.571429</td>\n",
       "    </tr>\n",
       "    <tr>\n",
       "      <th>10</th>\n",
       "      <td>80.571429</td>\n",
       "      <td>85.428571</td>\n",
       "    </tr>\n",
       "    <tr>\n",
       "      <th>11</th>\n",
       "      <td>85.428571</td>\n",
       "      <td>90.285714</td>\n",
       "    </tr>\n",
       "    <tr>\n",
       "      <th>12</th>\n",
       "      <td>90.285714</td>\n",
       "      <td>95.142857</td>\n",
       "    </tr>\n",
       "    <tr>\n",
       "      <th>13</th>\n",
       "      <td>95.142857</td>\n",
       "      <td>100.000000</td>\n",
       "    </tr>\n",
       "  </tbody>\n",
       "</table>\n",
       "</div>"
      ],
      "text/plain": [
       "          a_i       a_i+1\n",
       "0   32.000000   36.857143\n",
       "1   36.857143   41.714286\n",
       "2   41.714286   46.571429\n",
       "3   46.571429   51.428571\n",
       "4   51.428571   56.285714\n",
       "5   56.285714   61.142857\n",
       "6   61.142857   66.000000\n",
       "7   66.000000   70.857143\n",
       "8   70.857143   75.714286\n",
       "9   75.714286   80.571429\n",
       "10  80.571429   85.428571\n",
       "11  85.428571   90.285714\n",
       "12  90.285714   95.142857\n",
       "13  95.142857  100.000000"
      ]
     },
     "execution_count": 40,
     "metadata": {},
     "output_type": "execute_result"
    }
   ],
   "source": [
    "#parametrs\n",
    "n = reading_score.count()\n",
    "k = int(n ** (1/2))\n",
    "r = int(reading_score.max() - reading_score.min())\n",
    "l = r / k\n",
    "\n",
    "#intervals\n",
    "a_i = []\n",
    "a_i_plus = []\n",
    "\n",
    "for i in range(k):\n",
    "    a_i.append(reading_score.min() + l * i)\n",
    "    a_i_plus.append(reading_score.min() + l * (i + 1))\n",
    "    \n",
    "reading_interval = pd.DataFrame({'a_i': a_i,\n",
    "                                 'a_i+1': a_i_plus})\n",
    "    \n",
    "reading_interval.head(k)"
   ]
  },
  {
   "cell_type": "markdown",
   "id": "cf20ac4a-08f6-4190-a55f-6064bce9070b",
   "metadata": {},
   "source": [
    "##### Calculating number of values in intervals"
   ]
  },
  {
   "cell_type": "code",
   "execution_count": 41,
   "id": "8eea7a5b-16f4-4c2c-af25-c1dd52064b82",
   "metadata": {},
   "outputs": [
    {
     "data": {
      "text/html": [
       "<div>\n",
       "<style scoped>\n",
       "    .dataframe tbody tr th:only-of-type {\n",
       "        vertical-align: middle;\n",
       "    }\n",
       "\n",
       "    .dataframe tbody tr th {\n",
       "        vertical-align: top;\n",
       "    }\n",
       "\n",
       "    .dataframe thead th {\n",
       "        text-align: right;\n",
       "    }\n",
       "</style>\n",
       "<table border=\"1\" class=\"dataframe\">\n",
       "  <thead>\n",
       "    <tr style=\"text-align: right;\">\n",
       "      <th></th>\n",
       "      <th>a_i</th>\n",
       "      <th>a_i+1</th>\n",
       "      <th>values</th>\n",
       "    </tr>\n",
       "  </thead>\n",
       "  <tbody>\n",
       "    <tr>\n",
       "      <th>0</th>\n",
       "      <td>32.000000</td>\n",
       "      <td>36.857143</td>\n",
       "      <td>5</td>\n",
       "    </tr>\n",
       "    <tr>\n",
       "      <th>1</th>\n",
       "      <td>36.857143</td>\n",
       "      <td>41.714286</td>\n",
       "      <td>4</td>\n",
       "    </tr>\n",
       "    <tr>\n",
       "      <th>2</th>\n",
       "      <td>41.714286</td>\n",
       "      <td>46.571429</td>\n",
       "      <td>5</td>\n",
       "    </tr>\n",
       "    <tr>\n",
       "      <th>3</th>\n",
       "      <td>46.571429</td>\n",
       "      <td>51.428571</td>\n",
       "      <td>16</td>\n",
       "    </tr>\n",
       "    <tr>\n",
       "      <th>4</th>\n",
       "      <td>51.428571</td>\n",
       "      <td>56.285714</td>\n",
       "      <td>20</td>\n",
       "    </tr>\n",
       "    <tr>\n",
       "      <th>5</th>\n",
       "      <td>56.285714</td>\n",
       "      <td>61.142857</td>\n",
       "      <td>14</td>\n",
       "    </tr>\n",
       "    <tr>\n",
       "      <th>6</th>\n",
       "      <td>61.142857</td>\n",
       "      <td>66.000000</td>\n",
       "      <td>23</td>\n",
       "    </tr>\n",
       "    <tr>\n",
       "      <th>7</th>\n",
       "      <td>66.000000</td>\n",
       "      <td>70.857143</td>\n",
       "      <td>24</td>\n",
       "    </tr>\n",
       "    <tr>\n",
       "      <th>8</th>\n",
       "      <td>70.857143</td>\n",
       "      <td>75.714286</td>\n",
       "      <td>18</td>\n",
       "    </tr>\n",
       "    <tr>\n",
       "      <th>9</th>\n",
       "      <td>75.714286</td>\n",
       "      <td>80.571429</td>\n",
       "      <td>21</td>\n",
       "    </tr>\n",
       "    <tr>\n",
       "      <th>10</th>\n",
       "      <td>80.571429</td>\n",
       "      <td>85.428571</td>\n",
       "      <td>18</td>\n",
       "    </tr>\n",
       "    <tr>\n",
       "      <th>11</th>\n",
       "      <td>85.428571</td>\n",
       "      <td>90.285714</td>\n",
       "      <td>16</td>\n",
       "    </tr>\n",
       "    <tr>\n",
       "      <th>12</th>\n",
       "      <td>90.285714</td>\n",
       "      <td>95.142857</td>\n",
       "      <td>7</td>\n",
       "    </tr>\n",
       "    <tr>\n",
       "      <th>13</th>\n",
       "      <td>95.142857</td>\n",
       "      <td>100.000000</td>\n",
       "      <td>9</td>\n",
       "    </tr>\n",
       "  </tbody>\n",
       "</table>\n",
       "</div>"
      ],
      "text/plain": [
       "          a_i       a_i+1  values\n",
       "0   32.000000   36.857143       5\n",
       "1   36.857143   41.714286       4\n",
       "2   41.714286   46.571429       5\n",
       "3   46.571429   51.428571      16\n",
       "4   51.428571   56.285714      20\n",
       "5   56.285714   61.142857      14\n",
       "6   61.142857   66.000000      23\n",
       "7   66.000000   70.857143      24\n",
       "8   70.857143   75.714286      18\n",
       "9   75.714286   80.571429      21\n",
       "10  80.571429   85.428571      18\n",
       "11  85.428571   90.285714      16\n",
       "12  90.285714   95.142857       7\n",
       "13  95.142857  100.000000       9"
      ]
     },
     "execution_count": 41,
     "metadata": {},
     "output_type": "execute_result"
    }
   ],
   "source": [
    "intervals_values = []\n",
    "values = reading_score.value_counts().sort_index()\n",
    "\n",
    "for i in range(k):\n",
    "    if ((i+1) % 2) and (i != (k - 1)):\n",
    "        intervals_values.append(sum(values.loc[math.ceil(a_i[i]):math.trunc(a_i_plus[i] - 0.01)]))\n",
    "    else:\n",
    "        intervals_values.append(sum(values.loc[math.ceil(a_i[i]):math.trunc(a_i_plus[i])]))\n",
    "\n",
    "reading_interval['values'] = intervals_values\n",
    "reading_interval.head(k)"
   ]
  },
  {
   "cell_type": "markdown",
   "id": "f288f22c-3a35-458c-aa0e-827e4dce644e",
   "metadata": {},
   "source": [
    "##### Adding parameters"
   ]
  },
  {
   "cell_type": "code",
   "execution_count": 42,
   "id": "3bedaa62-971c-4cf9-9f03-9f473820174d",
   "metadata": {},
   "outputs": [
    {
     "data": {
      "text/html": [
       "<div>\n",
       "<style scoped>\n",
       "    .dataframe tbody tr th:only-of-type {\n",
       "        vertical-align: middle;\n",
       "    }\n",
       "\n",
       "    .dataframe tbody tr th {\n",
       "        vertical-align: top;\n",
       "    }\n",
       "\n",
       "    .dataframe thead th {\n",
       "        text-align: right;\n",
       "    }\n",
       "</style>\n",
       "<table border=\"1\" class=\"dataframe\">\n",
       "  <thead>\n",
       "    <tr style=\"text-align: right;\">\n",
       "      <th></th>\n",
       "      <th>a_i</th>\n",
       "      <th>a_i+1</th>\n",
       "      <th>values</th>\n",
       "      <th>c</th>\n",
       "      <th>mi*(ci-mu)^2</th>\n",
       "    </tr>\n",
       "  </thead>\n",
       "  <tbody>\n",
       "    <tr>\n",
       "      <th>0</th>\n",
       "      <td>32.000000</td>\n",
       "      <td>36.857143</td>\n",
       "      <td>5</td>\n",
       "      <td>34.428571</td>\n",
       "      <td>5373.110296</td>\n",
       "    </tr>\n",
       "    <tr>\n",
       "      <th>1</th>\n",
       "      <td>36.857143</td>\n",
       "      <td>41.714286</td>\n",
       "      <td>4</td>\n",
       "      <td>39.285714</td>\n",
       "      <td>3119.062931</td>\n",
       "    </tr>\n",
       "    <tr>\n",
       "      <th>2</th>\n",
       "      <td>41.714286</td>\n",
       "      <td>46.571429</td>\n",
       "      <td>5</td>\n",
       "      <td>44.142857</td>\n",
       "      <td>2660.465398</td>\n",
       "    </tr>\n",
       "    <tr>\n",
       "      <th>3</th>\n",
       "      <td>46.571429</td>\n",
       "      <td>51.428571</td>\n",
       "      <td>16</td>\n",
       "      <td>49.000000</td>\n",
       "      <td>5305.665600</td>\n",
       "    </tr>\n",
       "    <tr>\n",
       "      <th>4</th>\n",
       "      <td>51.428571</td>\n",
       "      <td>56.285714</td>\n",
       "      <td>20</td>\n",
       "      <td>53.857143</td>\n",
       "      <td>3565.975878</td>\n",
       "    </tr>\n",
       "    <tr>\n",
       "      <th>5</th>\n",
       "      <td>56.285714</td>\n",
       "      <td>61.142857</td>\n",
       "      <td>14</td>\n",
       "      <td>58.714286</td>\n",
       "      <td>1010.480257</td>\n",
       "    </tr>\n",
       "    <tr>\n",
       "      <th>6</th>\n",
       "      <td>61.142857</td>\n",
       "      <td>66.000000</td>\n",
       "      <td>23</td>\n",
       "      <td>63.571429</td>\n",
       "      <td>304.501647</td>\n",
       "    </tr>\n",
       "    <tr>\n",
       "      <th>7</th>\n",
       "      <td>66.000000</td>\n",
       "      <td>70.857143</td>\n",
       "      <td>24</td>\n",
       "      <td>68.428571</td>\n",
       "      <td>35.637992</td>\n",
       "    </tr>\n",
       "    <tr>\n",
       "      <th>8</th>\n",
       "      <td>70.857143</td>\n",
       "      <td>75.714286</td>\n",
       "      <td>18</td>\n",
       "      <td>73.285714</td>\n",
       "      <td>664.457473</td>\n",
       "    </tr>\n",
       "    <tr>\n",
       "      <th>9</th>\n",
       "      <td>75.714286</td>\n",
       "      <td>80.571429</td>\n",
       "      <td>21</td>\n",
       "      <td>78.142857</td>\n",
       "      <td>2510.074671</td>\n",
       "    </tr>\n",
       "    <tr>\n",
       "      <th>10</th>\n",
       "      <td>80.571429</td>\n",
       "      <td>85.428571</td>\n",
       "      <td>18</td>\n",
       "      <td>83.000000</td>\n",
       "      <td>4487.833800</td>\n",
       "    </tr>\n",
       "    <tr>\n",
       "      <th>11</th>\n",
       "      <td>85.428571</td>\n",
       "      <td>90.285714</td>\n",
       "      <td>16</td>\n",
       "      <td>87.857143</td>\n",
       "      <td>6820.872131</td>\n",
       "    </tr>\n",
       "    <tr>\n",
       "      <th>12</th>\n",
       "      <td>90.285714</td>\n",
       "      <td>95.142857</td>\n",
       "      <td>7</td>\n",
       "      <td>92.714286</td>\n",
       "      <td>4553.280129</td>\n",
       "    </tr>\n",
       "    <tr>\n",
       "      <th>13</th>\n",
       "      <td>95.142857</td>\n",
       "      <td>100.000000</td>\n",
       "      <td>9</td>\n",
       "      <td>97.571429</td>\n",
       "      <td>8296.347104</td>\n",
       "    </tr>\n",
       "  </tbody>\n",
       "</table>\n",
       "</div>"
      ],
      "text/plain": [
       "          a_i       a_i+1  values          c  mi*(ci-mu)^2\n",
       "0   32.000000   36.857143       5  34.428571   5373.110296\n",
       "1   36.857143   41.714286       4  39.285714   3119.062931\n",
       "2   41.714286   46.571429       5  44.142857   2660.465398\n",
       "3   46.571429   51.428571      16  49.000000   5305.665600\n",
       "4   51.428571   56.285714      20  53.857143   3565.975878\n",
       "5   56.285714   61.142857      14  58.714286   1010.480257\n",
       "6   61.142857   66.000000      23  63.571429    304.501647\n",
       "7   66.000000   70.857143      24  68.428571     35.637992\n",
       "8   70.857143   75.714286      18  73.285714    664.457473\n",
       "9   75.714286   80.571429      21  78.142857   2510.074671\n",
       "10  80.571429   85.428571      18  83.000000   4487.833800\n",
       "11  85.428571   90.285714      16  87.857143   6820.872131\n",
       "12  90.285714   95.142857       7  92.714286   4553.280129\n",
       "13  95.142857  100.000000       9  97.571429   8296.347104"
      ]
     },
     "execution_count": 42,
     "metadata": {},
     "output_type": "execute_result"
    }
   ],
   "source": [
    "c = []\n",
    "extra = []\n",
    "for i in range(k):\n",
    "    c.append((a_i[i] + a_i_plus[i]) / 2)\n",
    "    extra.append(intervals_values[i] * ((c[i] - mu) ** 2))\n",
    "reading_interval['c'] = c\n",
    "reading_interval['mi*(ci-mu)^2'] = extra\n",
    "reading_interval.head(k)"
   ]
  },
  {
   "cell_type": "markdown",
   "id": "976600db-7c40-4252-988e-9825672303b5",
   "metadata": {
    "tags": []
   },
   "source": [
    "#### Writting scores series"
   ]
  },
  {
   "cell_type": "code",
   "execution_count": 81,
   "id": "79cb1171-bf52-4ade-9669-2c6e6ecbb231",
   "metadata": {},
   "outputs": [],
   "source": [
    "writting_score = df['writing score'].sort_values()"
   ]
  },
  {
   "cell_type": "code",
   "execution_count": 82,
   "id": "72db5926-8acf-418e-935d-ba9108671bdb",
   "metadata": {},
   "outputs": [
    {
     "data": {
      "text/plain": [
       "count    200.000000\n",
       "mean      25.065000\n",
       "std       19.954994\n",
       "min        0.000000\n",
       "25%       10.000000\n",
       "50%       19.000000\n",
       "75%       34.250000\n",
       "max      104.000000\n",
       "Name: writing score, dtype: float64"
      ]
     },
     "execution_count": 82,
     "metadata": {},
     "output_type": "execute_result"
    }
   ],
   "source": [
    "writting_score.describe()"
   ]
  },
  {
   "cell_type": "markdown",
   "id": "b087d6b7-ebe6-490c-b452-8096c66969e2",
   "metadata": {
    "tags": []
   },
   "source": [
    "### Reading serie"
   ]
  },
  {
   "cell_type": "markdown",
   "id": "b13d4a59-1f14-4755-a5b1-6f6e5d6a8fba",
   "metadata": {},
   "source": [
    "#### Data evaluation"
   ]
  },
  {
   "cell_type": "code",
   "execution_count": 9,
   "id": "4d33a2f3-15cf-49e6-8766-7448d5ba6151",
   "metadata": {},
   "outputs": [
    {
     "name": "stdout",
     "output_type": "stream",
     "text": [
      "------------------\n",
      "|E:         68.59|\n",
      "------------------\n",
      "|D:        246.85|\n",
      "------------------\n",
      "|Median:    68.00|\n",
      "------------------\n",
      "|p_D:      245.61|\n",
      "------------------\n",
      "|stdev:     15.71|\n",
      "------------------\n"
     ]
    }
   ],
   "source": [
    "reading_parameters = {'E': stat.mean(reading_score),\n",
    "                      'D': stat.variance(reading_score),\n",
    "                      'Median': stat.median(reading_score),\n",
    "                      'p_D': stat.pvariance(reading_score),\n",
    "                      'stdev': stat.stdev(reading_score)}\n",
    "\n",
    "for key, value in reading_parameters.items():\n",
    "    print('------------------')\n",
    "    print('|%-8s %7.2f|' % (key + ':', value))\n",
    "print('------------------')"
   ]
  },
  {
   "cell_type": "markdown",
   "id": "819b84d5-b7d4-4eb5-91c3-ef6419d2d17c",
   "metadata": {
    "tags": []
   },
   "source": [
    "#### Confidence intervals reading score"
   ]
  },
  {
   "cell_type": "code",
   "execution_count": 70,
   "id": "6a84e029-1ff3-4551-b172-6f41d1b53c26",
   "metadata": {},
   "outputs": [
    {
     "name": "stdout",
     "output_type": "stream",
     "text": [
      "-------------------------------------------------------------------------------\n",
      "| Quantile 1 | Quantile 2 | Quantile 3 | Quantile 4 | Quantile 5 | Quantile 6 |\n",
      "-------------------------------------------------------------------------------\n",
      "|       1.960|       1.972|     241.058|     239.960|      47.583|      46.751|\n",
      "-------------------------------------------------------------------------------\n"
     ]
    }
   ],
   "source": [
    "#quaniles\n",
    "quantil1 = scipy.stats.norm.ppf(1 - ((1 - gamma) / 2))\n",
    "quantil2 = 1.972 #Стьюдент\n",
    "quantil3 = scipy.stats.chi2.ppf((1 + gamma) / 2, n)\n",
    "quantil4 = scipy.stats.chi2.ppf((1 + gamma) / 2, n - 1)\n",
    "quantil5 = scipy.stats.chi2.ppf((1 - gamma) / 2, reading_parameters['E'])\n",
    "quantil6 = scipy.stats.chi2.ppf((1 - gamma) / 2, reading_parameters['E'] - 1)\n",
    "\n",
    "print('-------------------------------------------------------------------------------')\n",
    "print('| %-10s | %-10s | %-10s | %-10s | %-10s | %-10s |' % ('Quantile 1', 'Quantile 2', 'Quantile 3', 'Quantile 4', 'Quantile 5', 'Quantile 6'))\n",
    "print('-------------------------------------------------------------------------------')\n",
    "print('|%12.3f|%12.3f|%12.3f|%12.3f|%12.3f|%12.3f|' % (quantil1, quantil2, quantil3, quantil4, quantil5, quantil6))\n",
    "print('-------------------------------------------------------------------------------')"
   ]
  },
  {
   "cell_type": "markdown",
   "id": "98d6c1ce-0e02-4f29-88c5-37da128192d3",
   "metadata": {},
   "source": [
    "##### For 𝜇 with a known 𝜎^2"
   ]
  },
  {
   "cell_type": "code",
   "execution_count": 25,
   "id": "6c49d13b-20a1-4149-a10d-81552766fb70",
   "metadata": {},
   "outputs": [
    {
     "name": "stdout",
     "output_type": "stream",
     "text": [
      "Interval: (66.407, 70.773)\n"
     ]
    }
   ],
   "source": [
    "left_border = reading_parameters['E'] - quantil1 * (sigma_2 / n) ** (1/2) \n",
    "rigth_border = reading_parameters['E'] + quantil1 * (sigma_2 / n) ** (1/2) \n",
    "print('Interval: (%2.3f, %2.3f)' % (left_border, rigth_border))"
   ]
  },
  {
   "cell_type": "markdown",
   "id": "52c8b29b-ecbd-4b4e-ba03-263721a46a69",
   "metadata": {},
   "source": [
    "##### For 𝜇 with a unknown 𝜎^2"
   ]
  },
  {
   "cell_type": "code",
   "execution_count": 26,
   "id": "f044c236-c310-4bdc-a100-ea88ccca121c",
   "metadata": {},
   "outputs": [
    {
     "name": "stdout",
     "output_type": "stream",
     "text": [
      "Interval: (68.279, 68.901)\n"
     ]
    }
   ],
   "source": [
    "left_border = reading_parameters['E'] - quantil2 * reading_parameters['stdev'] / ((n-1) ** 1/2) \n",
    "rigth_border = reading_parameters['E'] + quantil2 * reading_parameters['stdev'] / ((n-1) ** 1/2) \n",
    "print('Interval: (%2.3f, %2.3f)' % (left_border, rigth_border))"
   ]
  },
  {
   "cell_type": "markdown",
   "id": "c501f8c8-c080-4589-831f-9602aef1d617",
   "metadata": {},
   "source": [
    "##### For 𝜎^2 with a unknown 𝜇"
   ]
  },
  {
   "cell_type": "code",
   "execution_count": 72,
   "id": "856a8772-e559-4007-bdf9-772fdf52d7a3",
   "metadata": {},
   "outputs": [
    {
     "name": "stdout",
     "output_type": "stream",
     "text": [
      "Interval: (204.711, 1050.721)\n"
     ]
    }
   ],
   "source": [
    "left_border = n * reading_parameters['p_D'] / quantil4\n",
    "rigth_border = n * reading_parameters['p_D'] / quantil6\n",
    "print('Interval: (%2.3f, %2.3f)' % (left_border, rigth_border))"
   ]
  },
  {
   "cell_type": "markdown",
   "id": "71146387-c492-4a49-984c-ad864627c789",
   "metadata": {},
   "source": [
    "##### For 𝜎^2 with a known 𝜇"
   ]
  },
  {
   "cell_type": "code",
   "execution_count": 73,
   "id": "9f9e1928-b504-49c6-b4e7-59ae78b58047",
   "metadata": {},
   "outputs": [
    {
     "name": "stdout",
     "output_type": "stream",
     "text": [
      "Interval: (202.058, 1023.642)\n"
     ]
    }
   ],
   "source": [
    "left_border = sum(reading_interval['mi*(ci-mu)^2']) / quantil3\n",
    "rigth_border = sum(reading_interval['mi*(ci-mu)^2']) / quantil5\n",
    "print('Interval: (%2.3f, %2.3f)' % (left_border, rigth_border))"
   ]
  },
  {
   "cell_type": "markdown",
   "id": "1902cfda-cdfd-4953-b435-ab794710ec7e",
   "metadata": {},
   "source": [
    "##### Python interval"
   ]
  },
  {
   "cell_type": "code",
   "execution_count": 108,
   "id": "56e0f013-c162-4976-a277-b7cfca02e5eb",
   "metadata": {},
   "outputs": [
    {
     "name": "stdout",
     "output_type": "stream",
     "text": [
      "Interval: (66.399, 70.781)\n"
     ]
    }
   ],
   "source": [
    "interval = scipy.stats.t.interval(alpha=gamma, df=n, loc=reading_parameters['E'], scale=scipy.stats.sem(reading_score))\n",
    "print('Interval: (%2.3f, %2.3f)' % (interval[0], interval[1]))"
   ]
  },
  {
   "cell_type": "markdown",
   "id": "18065094-74a6-44bb-bf60-64809fa83010",
   "metadata": {},
   "source": [
    "### Writting serie"
   ]
  },
  {
   "cell_type": "markdown",
   "id": "bfde75e7-51e8-418a-8575-c5d5500e0bd1",
   "metadata": {},
   "source": [
    "#### Data evaluation"
   ]
  },
  {
   "cell_type": "code",
   "execution_count": 80,
   "id": "6335b26e-5565-4941-a4d9-a0327d136451",
   "metadata": {},
   "outputs": [
    {
     "name": "stdout",
     "output_type": "stream",
     "text": [
      "------------------\n",
      "|E:         25.07|\n",
      "------------------\n",
      "|D:        398.20|\n",
      "------------------\n",
      "|Median:    19.00|\n",
      "------------------\n",
      "|p_D:      396.21|\n",
      "------------------\n",
      "|stdev:     19.95|\n",
      "------------------\n"
     ]
    }
   ],
   "source": [
    "writting_parameters = {'E': stat.mean(writting_score),\n",
    "                      'D': stat.variance(writting_score),\n",
    "                      'Median': stat.median(writting_score),\n",
    "                      'p_D': stat.pvariance(writting_score),\n",
    "                      'stdev': stat.stdev(writting_score)}\n",
    "\n",
    "for key, value in writting_parameters.items():\n",
    "    print('------------------')\n",
    "    print('|%-8s %7.2f|' % (key + ':', value))\n",
    "print('------------------')"
   ]
  },
  {
   "cell_type": "code",
   "execution_count": 84,
   "id": "1646d8b2-9e10-4b13-872f-79bbf5e887de",
   "metadata": {},
   "outputs": [
    {
     "name": "stdout",
     "output_type": "stream",
     "text": [
      "1.959963984540054\n"
     ]
    }
   ],
   "source": [
    "#quantile \n",
    "print(quantil1)"
   ]
  },
  {
   "cell_type": "markdown",
   "id": "0fa61693-c276-47c8-9658-351e028bfe25",
   "metadata": {},
   "source": [
    "#### Interval for exponential distribution param"
   ]
  },
  {
   "cell_type": "code",
   "execution_count": 88,
   "id": "e2f511c9-46bb-4e80-8e82-ecec7eec2b6b",
   "metadata": {},
   "outputs": [
    {
     "name": "stdout",
     "output_type": "stream",
     "text": [
      "Interval: (0.034, 0.045)\n"
     ]
    }
   ],
   "source": [
    "left_border = (1/writting_parameters['E']) - (quantil1 / (writting_parameters['E'] * (n ** (1/2))))\n",
    "rigth_border = (1/writting_parameters['E']) + (quantil1 / (writting_parameters['E'] * (n ** (1/2))))\n",
    "print('Interval: (%2.3f, %2.3f)' % (left_border, rigth_border))"
   ]
  },
  {
   "cell_type": "markdown",
   "id": "48f03dbe-3a89-4c3e-9d0f-75d33d62c707",
   "metadata": {},
   "source": [
    "#### Interval for Poisson distribution param"
   ]
  },
  {
   "cell_type": "code",
   "execution_count": 90,
   "id": "2ebfd1a1-5b44-45f2-b734-00b7d678cad5",
   "metadata": {},
   "outputs": [
    {
     "name": "stdout",
     "output_type": "stream",
     "text": [
      "Interval: (24.371, 25.759)\n"
     ]
    }
   ],
   "source": [
    "left_border = writting_parameters['E'] - quantil1 * ((writting_parameters['E'] / n) ** (1/2))\n",
    "rigth_border = writting_parameters['E'] + quantil1 * ((writting_parameters['E'] / n) ** (1/2))\n",
    "print('Interval: (%2.3f, %2.3f)' % (left_border, rigth_border))"
   ]
  },
  {
   "cell_type": "markdown",
   "id": "5929f064-b398-48cb-8014-bc0027fc8b8a",
   "metadata": {},
   "source": [
    "## Conclusion"
   ]
  },
  {
   "cell_type": "markdown",
   "id": "76623187-050c-4af7-a568-5d5fc66bcf2d",
   "metadata": {},
   "source": [
    "##### Доверительные интервалы полученные различными методами почти совпали, что объснется тем, что известные значения близки к выборочным оценкам.\n",
    "\n",
    "##### Работу выполнял Кравченко Д.\n",
    "##### Группа R3338\n",
    "##### Вариант 3"
   ]
  }
 ],
 "metadata": {
  "kernelspec": {
   "display_name": "Python 3 (ipykernel)",
   "language": "python",
   "name": "python3"
  },
  "language_info": {
   "codemirror_mode": {
    "name": "ipython",
    "version": 3
   },
   "file_extension": ".py",
   "mimetype": "text/x-python",
   "name": "python",
   "nbconvert_exporter": "python",
   "pygments_lexer": "ipython3",
   "version": "3.10.4"
  }
 },
 "nbformat": 4,
 "nbformat_minor": 5
}
